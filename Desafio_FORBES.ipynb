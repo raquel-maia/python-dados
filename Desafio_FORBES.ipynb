{
  "nbformat": 4,
  "nbformat_minor": 0,
  "metadata": {
    "colab": {
      "provenance": [],
      "include_colab_link": true
    },
    "kernelspec": {
      "name": "python3",
      "display_name": "Python 3"
    },
    "language_info": {
      "name": "python"
    }
  },
  "cells": [
    {
      "cell_type": "markdown",
      "metadata": {
        "id": "view-in-github",
        "colab_type": "text"
      },
      "source": [
        "<a href=\"https://colab.research.google.com/github/raquel-maia/python-dados/blob/main/Desafio_FORBES.ipynb\" target=\"_parent\"><img src=\"https://colab.research.google.com/assets/colab-badge.svg\" alt=\"Open In Colab\"/></a>"
      ]
    },
    {
      "cell_type": "markdown",
      "source": [
        "Definição do problema: Você está trabalhando em um jornal e o\n",
        "editor quer que você responda as seguintes questões:\n",
        "\n",
        "1. Qual a empresa mais valiosa da lista da Forbes 2000?\n",
        "\n",
        "2. Construa uma tabela com as TOP 10 empresas mais lucrativas da\n",
        "lista.\n",
        "\n",
        "3. Qual a média de valores de empresa das cinco categorias mais\n",
        "valiosas?\n",
        "\n",
        "\n",
        "Código do dataset: Forbes2000\n",
        "\n",
        "Dicas:\n",
        "* Método .max()\n",
        "* Método nlargest()\n",
        "* Método .groupby()\n",
        "\n",
        "\n",
        "\n",
        "\n",
        "\n",
        "\n",
        "\n"
      ],
      "metadata": {
        "id": "_r2JlocZWwFC"
      }
    },
    {
      "cell_type": "code",
      "source": [
        "import pandas as pd"
      ],
      "metadata": {
        "id": "hFo-oQ6Hir-3"
      },
      "execution_count": null,
      "outputs": []
    },
    {
      "cell_type": "code",
      "source": [
        "!pip install pydataset\n",
        "\n"
      ],
      "metadata": {
        "id": "zlzvmVQB7FdT",
        "colab": {
          "base_uri": "https://localhost:8080/"
        },
        "outputId": "d1cd6238-5083-4134-a20e-9def2255603e"
      },
      "execution_count": null,
      "outputs": [
        {
          "output_type": "stream",
          "name": "stdout",
          "text": [
            "Collecting pydataset\n",
            "  Downloading pydataset-0.2.0.tar.gz (15.9 MB)\n",
            "\u001b[2K     \u001b[90m━━━━━━━━━━━━━━━━━━━━━━━━━━━━━━━━━━━━━━━━\u001b[0m \u001b[32m15.9/15.9 MB\u001b[0m \u001b[31m33.1 MB/s\u001b[0m eta \u001b[36m0:00:00\u001b[0m\n",
            "\u001b[?25h  Preparing metadata (setup.py) ... \u001b[?25l\u001b[?25hdone\n",
            "Requirement already satisfied: pandas in /usr/local/lib/python3.10/dist-packages (from pydataset) (1.5.3)\n",
            "Requirement already satisfied: python-dateutil>=2.8.1 in /usr/local/lib/python3.10/dist-packages (from pandas->pydataset) (2.8.2)\n",
            "Requirement already satisfied: pytz>=2020.1 in /usr/local/lib/python3.10/dist-packages (from pandas->pydataset) (2023.4)\n",
            "Requirement already satisfied: numpy>=1.21.0 in /usr/local/lib/python3.10/dist-packages (from pandas->pydataset) (1.23.5)\n",
            "Requirement already satisfied: six>=1.5 in /usr/local/lib/python3.10/dist-packages (from python-dateutil>=2.8.1->pandas->pydataset) (1.16.0)\n",
            "Building wheels for collected packages: pydataset\n",
            "  Building wheel for pydataset (setup.py) ... \u001b[?25l\u001b[?25hdone\n",
            "  Created wheel for pydataset: filename=pydataset-0.2.0-py3-none-any.whl size=15939416 sha256=6fc36acabdb27ffa4f396bc625ac7e52f63b465299df2c0a6e4fd4d7c5b50d55\n",
            "  Stored in directory: /root/.cache/pip/wheels/2b/83/5c/073c3755e8b7704e4677557b2055e61026c1a2342149214c13\n",
            "Successfully built pydataset\n",
            "Installing collected packages: pydataset\n",
            "Successfully installed pydataset-0.2.0\n"
          ]
        }
      ]
    },
    {
      "cell_type": "code",
      "source": [
        "from pydataset import data\n"
      ],
      "metadata": {
        "id": "SnFysxyd7LTr",
        "colab": {
          "base_uri": "https://localhost:8080/"
        },
        "outputId": "33103755-7c10-4dcc-9a39-29fd55183896"
      },
      "execution_count": null,
      "outputs": [
        {
          "output_type": "stream",
          "name": "stdout",
          "text": [
            "initiated datasets repo at: /root/.pydataset/\n"
          ]
        }
      ]
    },
    {
      "cell_type": "code",
      "source": [
        "df_forbes = data('Forbes2000')\n",
        "df_forbes\n"
      ],
      "metadata": {
        "colab": {
          "base_uri": "https://localhost:8080/",
          "height": 423
        },
        "id": "P_8ZGMp_70Vt",
        "outputId": "ed7f2daf-eeea-48ed-8918-c90e7104b263"
      },
      "execution_count": null,
      "outputs": [
        {
          "output_type": "execute_result",
          "data": {
            "text/plain": [
              "      rank                       name         country                      category   sales  \\\n",
              "1        1                  Citigroup   United States                       Banking   94.71   \n",
              "2        2           General Electric   United States                 Conglomerates  134.19   \n",
              "3        3        American Intl Group   United States                     Insurance   76.66   \n",
              "4        4                 ExxonMobil   United States          Oil & gas operations  222.88   \n",
              "5        5                         BP  United Kingdom          Oil & gas operations  232.57   \n",
              "...    ...                        ...             ...                           ...     ...   \n",
              "1996  1996             Siam City Bank        Thailand                       Banking    0.48   \n",
              "1997  1997          Yokogawa Electric           Japan  Business services & supplies    2.78   \n",
              "1998  1998        Hindalco Industries           India                     Materials    1.35   \n",
              "1999  1999                     Nexans          France                 Capital goods    5.09   \n",
              "2000  2000  Oriental Bank of Commerce           India                       Banking    0.81   \n",
              "\n",
              "      profits   assets  marketvalue  \n",
              "1       17.85  1264.03       255.30  \n",
              "2       15.59   626.93       328.54  \n",
              "3        6.46   647.66       194.87  \n",
              "4       20.96   166.99       277.02  \n",
              "5       10.27   177.57       173.54  \n",
              "...       ...      ...          ...  \n",
              "1996     0.02    11.27         1.47  \n",
              "1997    -0.22     2.96         3.29  \n",
              "1998     0.14     2.47         2.76  \n",
              "1999     0.00     2.71         0.88  \n",
              "2000     0.10     7.16         1.17  \n",
              "\n",
              "[2000 rows x 8 columns]"
            ],
            "text/html": [
              "\n",
              "  <div id=\"df-544df06f-6e3d-40c1-a33f-dca35e9ff3e9\" class=\"colab-df-container\">\n",
              "    <div>\n",
              "<style scoped>\n",
              "    .dataframe tbody tr th:only-of-type {\n",
              "        vertical-align: middle;\n",
              "    }\n",
              "\n",
              "    .dataframe tbody tr th {\n",
              "        vertical-align: top;\n",
              "    }\n",
              "\n",
              "    .dataframe thead th {\n",
              "        text-align: right;\n",
              "    }\n",
              "</style>\n",
              "<table border=\"1\" class=\"dataframe\">\n",
              "  <thead>\n",
              "    <tr style=\"text-align: right;\">\n",
              "      <th></th>\n",
              "      <th>rank</th>\n",
              "      <th>name</th>\n",
              "      <th>country</th>\n",
              "      <th>category</th>\n",
              "      <th>sales</th>\n",
              "      <th>profits</th>\n",
              "      <th>assets</th>\n",
              "      <th>marketvalue</th>\n",
              "    </tr>\n",
              "  </thead>\n",
              "  <tbody>\n",
              "    <tr>\n",
              "      <th>1</th>\n",
              "      <td>1</td>\n",
              "      <td>Citigroup</td>\n",
              "      <td>United States</td>\n",
              "      <td>Banking</td>\n",
              "      <td>94.71</td>\n",
              "      <td>17.85</td>\n",
              "      <td>1264.03</td>\n",
              "      <td>255.30</td>\n",
              "    </tr>\n",
              "    <tr>\n",
              "      <th>2</th>\n",
              "      <td>2</td>\n",
              "      <td>General Electric</td>\n",
              "      <td>United States</td>\n",
              "      <td>Conglomerates</td>\n",
              "      <td>134.19</td>\n",
              "      <td>15.59</td>\n",
              "      <td>626.93</td>\n",
              "      <td>328.54</td>\n",
              "    </tr>\n",
              "    <tr>\n",
              "      <th>3</th>\n",
              "      <td>3</td>\n",
              "      <td>American Intl Group</td>\n",
              "      <td>United States</td>\n",
              "      <td>Insurance</td>\n",
              "      <td>76.66</td>\n",
              "      <td>6.46</td>\n",
              "      <td>647.66</td>\n",
              "      <td>194.87</td>\n",
              "    </tr>\n",
              "    <tr>\n",
              "      <th>4</th>\n",
              "      <td>4</td>\n",
              "      <td>ExxonMobil</td>\n",
              "      <td>United States</td>\n",
              "      <td>Oil &amp; gas operations</td>\n",
              "      <td>222.88</td>\n",
              "      <td>20.96</td>\n",
              "      <td>166.99</td>\n",
              "      <td>277.02</td>\n",
              "    </tr>\n",
              "    <tr>\n",
              "      <th>5</th>\n",
              "      <td>5</td>\n",
              "      <td>BP</td>\n",
              "      <td>United Kingdom</td>\n",
              "      <td>Oil &amp; gas operations</td>\n",
              "      <td>232.57</td>\n",
              "      <td>10.27</td>\n",
              "      <td>177.57</td>\n",
              "      <td>173.54</td>\n",
              "    </tr>\n",
              "    <tr>\n",
              "      <th>...</th>\n",
              "      <td>...</td>\n",
              "      <td>...</td>\n",
              "      <td>...</td>\n",
              "      <td>...</td>\n",
              "      <td>...</td>\n",
              "      <td>...</td>\n",
              "      <td>...</td>\n",
              "      <td>...</td>\n",
              "    </tr>\n",
              "    <tr>\n",
              "      <th>1996</th>\n",
              "      <td>1996</td>\n",
              "      <td>Siam City Bank</td>\n",
              "      <td>Thailand</td>\n",
              "      <td>Banking</td>\n",
              "      <td>0.48</td>\n",
              "      <td>0.02</td>\n",
              "      <td>11.27</td>\n",
              "      <td>1.47</td>\n",
              "    </tr>\n",
              "    <tr>\n",
              "      <th>1997</th>\n",
              "      <td>1997</td>\n",
              "      <td>Yokogawa Electric</td>\n",
              "      <td>Japan</td>\n",
              "      <td>Business services &amp; supplies</td>\n",
              "      <td>2.78</td>\n",
              "      <td>-0.22</td>\n",
              "      <td>2.96</td>\n",
              "      <td>3.29</td>\n",
              "    </tr>\n",
              "    <tr>\n",
              "      <th>1998</th>\n",
              "      <td>1998</td>\n",
              "      <td>Hindalco Industries</td>\n",
              "      <td>India</td>\n",
              "      <td>Materials</td>\n",
              "      <td>1.35</td>\n",
              "      <td>0.14</td>\n",
              "      <td>2.47</td>\n",
              "      <td>2.76</td>\n",
              "    </tr>\n",
              "    <tr>\n",
              "      <th>1999</th>\n",
              "      <td>1999</td>\n",
              "      <td>Nexans</td>\n",
              "      <td>France</td>\n",
              "      <td>Capital goods</td>\n",
              "      <td>5.09</td>\n",
              "      <td>0.00</td>\n",
              "      <td>2.71</td>\n",
              "      <td>0.88</td>\n",
              "    </tr>\n",
              "    <tr>\n",
              "      <th>2000</th>\n",
              "      <td>2000</td>\n",
              "      <td>Oriental Bank of Commerce</td>\n",
              "      <td>India</td>\n",
              "      <td>Banking</td>\n",
              "      <td>0.81</td>\n",
              "      <td>0.10</td>\n",
              "      <td>7.16</td>\n",
              "      <td>1.17</td>\n",
              "    </tr>\n",
              "  </tbody>\n",
              "</table>\n",
              "<p>2000 rows × 8 columns</p>\n",
              "</div>\n",
              "    <div class=\"colab-df-buttons\">\n",
              "\n",
              "  <div class=\"colab-df-container\">\n",
              "    <button class=\"colab-df-convert\" onclick=\"convertToInteractive('df-544df06f-6e3d-40c1-a33f-dca35e9ff3e9')\"\n",
              "            title=\"Convert this dataframe to an interactive table.\"\n",
              "            style=\"display:none;\">\n",
              "\n",
              "  <svg xmlns=\"http://www.w3.org/2000/svg\" height=\"24px\" viewBox=\"0 -960 960 960\">\n",
              "    <path d=\"M120-120v-720h720v720H120Zm60-500h600v-160H180v160Zm220 220h160v-160H400v160Zm0 220h160v-160H400v160ZM180-400h160v-160H180v160Zm440 0h160v-160H620v160ZM180-180h160v-160H180v160Zm440 0h160v-160H620v160Z\"/>\n",
              "  </svg>\n",
              "    </button>\n",
              "\n",
              "  <style>\n",
              "    .colab-df-container {\n",
              "      display:flex;\n",
              "      gap: 12px;\n",
              "    }\n",
              "\n",
              "    .colab-df-convert {\n",
              "      background-color: #E8F0FE;\n",
              "      border: none;\n",
              "      border-radius: 50%;\n",
              "      cursor: pointer;\n",
              "      display: none;\n",
              "      fill: #1967D2;\n",
              "      height: 32px;\n",
              "      padding: 0 0 0 0;\n",
              "      width: 32px;\n",
              "    }\n",
              "\n",
              "    .colab-df-convert:hover {\n",
              "      background-color: #E2EBFA;\n",
              "      box-shadow: 0px 1px 2px rgba(60, 64, 67, 0.3), 0px 1px 3px 1px rgba(60, 64, 67, 0.15);\n",
              "      fill: #174EA6;\n",
              "    }\n",
              "\n",
              "    .colab-df-buttons div {\n",
              "      margin-bottom: 4px;\n",
              "    }\n",
              "\n",
              "    [theme=dark] .colab-df-convert {\n",
              "      background-color: #3B4455;\n",
              "      fill: #D2E3FC;\n",
              "    }\n",
              "\n",
              "    [theme=dark] .colab-df-convert:hover {\n",
              "      background-color: #434B5C;\n",
              "      box-shadow: 0px 1px 3px 1px rgba(0, 0, 0, 0.15);\n",
              "      filter: drop-shadow(0px 1px 2px rgba(0, 0, 0, 0.3));\n",
              "      fill: #FFFFFF;\n",
              "    }\n",
              "  </style>\n",
              "\n",
              "    <script>\n",
              "      const buttonEl =\n",
              "        document.querySelector('#df-544df06f-6e3d-40c1-a33f-dca35e9ff3e9 button.colab-df-convert');\n",
              "      buttonEl.style.display =\n",
              "        google.colab.kernel.accessAllowed ? 'block' : 'none';\n",
              "\n",
              "      async function convertToInteractive(key) {\n",
              "        const element = document.querySelector('#df-544df06f-6e3d-40c1-a33f-dca35e9ff3e9');\n",
              "        const dataTable =\n",
              "          await google.colab.kernel.invokeFunction('convertToInteractive',\n",
              "                                                    [key], {});\n",
              "        if (!dataTable) return;\n",
              "\n",
              "        const docLinkHtml = 'Like what you see? Visit the ' +\n",
              "          '<a target=\"_blank\" href=https://colab.research.google.com/notebooks/data_table.ipynb>data table notebook</a>'\n",
              "          + ' to learn more about interactive tables.';\n",
              "        element.innerHTML = '';\n",
              "        dataTable['output_type'] = 'display_data';\n",
              "        await google.colab.output.renderOutput(dataTable, element);\n",
              "        const docLink = document.createElement('div');\n",
              "        docLink.innerHTML = docLinkHtml;\n",
              "        element.appendChild(docLink);\n",
              "      }\n",
              "    </script>\n",
              "  </div>\n",
              "\n",
              "\n",
              "<div id=\"df-3e8bdc8a-8cee-4874-ba6d-eced3f4d9467\">\n",
              "  <button class=\"colab-df-quickchart\" onclick=\"quickchart('df-3e8bdc8a-8cee-4874-ba6d-eced3f4d9467')\"\n",
              "            title=\"Suggest charts\"\n",
              "            style=\"display:none;\">\n",
              "\n",
              "<svg xmlns=\"http://www.w3.org/2000/svg\" height=\"24px\"viewBox=\"0 0 24 24\"\n",
              "     width=\"24px\">\n",
              "    <g>\n",
              "        <path d=\"M19 3H5c-1.1 0-2 .9-2 2v14c0 1.1.9 2 2 2h14c1.1 0 2-.9 2-2V5c0-1.1-.9-2-2-2zM9 17H7v-7h2v7zm4 0h-2V7h2v10zm4 0h-2v-4h2v4z\"/>\n",
              "    </g>\n",
              "</svg>\n",
              "  </button>\n",
              "\n",
              "<style>\n",
              "  .colab-df-quickchart {\n",
              "      --bg-color: #E8F0FE;\n",
              "      --fill-color: #1967D2;\n",
              "      --hover-bg-color: #E2EBFA;\n",
              "      --hover-fill-color: #174EA6;\n",
              "      --disabled-fill-color: #AAA;\n",
              "      --disabled-bg-color: #DDD;\n",
              "  }\n",
              "\n",
              "  [theme=dark] .colab-df-quickchart {\n",
              "      --bg-color: #3B4455;\n",
              "      --fill-color: #D2E3FC;\n",
              "      --hover-bg-color: #434B5C;\n",
              "      --hover-fill-color: #FFFFFF;\n",
              "      --disabled-bg-color: #3B4455;\n",
              "      --disabled-fill-color: #666;\n",
              "  }\n",
              "\n",
              "  .colab-df-quickchart {\n",
              "    background-color: var(--bg-color);\n",
              "    border: none;\n",
              "    border-radius: 50%;\n",
              "    cursor: pointer;\n",
              "    display: none;\n",
              "    fill: var(--fill-color);\n",
              "    height: 32px;\n",
              "    padding: 0;\n",
              "    width: 32px;\n",
              "  }\n",
              "\n",
              "  .colab-df-quickchart:hover {\n",
              "    background-color: var(--hover-bg-color);\n",
              "    box-shadow: 0 1px 2px rgba(60, 64, 67, 0.3), 0 1px 3px 1px rgba(60, 64, 67, 0.15);\n",
              "    fill: var(--button-hover-fill-color);\n",
              "  }\n",
              "\n",
              "  .colab-df-quickchart-complete:disabled,\n",
              "  .colab-df-quickchart-complete:disabled:hover {\n",
              "    background-color: var(--disabled-bg-color);\n",
              "    fill: var(--disabled-fill-color);\n",
              "    box-shadow: none;\n",
              "  }\n",
              "\n",
              "  .colab-df-spinner {\n",
              "    border: 2px solid var(--fill-color);\n",
              "    border-color: transparent;\n",
              "    border-bottom-color: var(--fill-color);\n",
              "    animation:\n",
              "      spin 1s steps(1) infinite;\n",
              "  }\n",
              "\n",
              "  @keyframes spin {\n",
              "    0% {\n",
              "      border-color: transparent;\n",
              "      border-bottom-color: var(--fill-color);\n",
              "      border-left-color: var(--fill-color);\n",
              "    }\n",
              "    20% {\n",
              "      border-color: transparent;\n",
              "      border-left-color: var(--fill-color);\n",
              "      border-top-color: var(--fill-color);\n",
              "    }\n",
              "    30% {\n",
              "      border-color: transparent;\n",
              "      border-left-color: var(--fill-color);\n",
              "      border-top-color: var(--fill-color);\n",
              "      border-right-color: var(--fill-color);\n",
              "    }\n",
              "    40% {\n",
              "      border-color: transparent;\n",
              "      border-right-color: var(--fill-color);\n",
              "      border-top-color: var(--fill-color);\n",
              "    }\n",
              "    60% {\n",
              "      border-color: transparent;\n",
              "      border-right-color: var(--fill-color);\n",
              "    }\n",
              "    80% {\n",
              "      border-color: transparent;\n",
              "      border-right-color: var(--fill-color);\n",
              "      border-bottom-color: var(--fill-color);\n",
              "    }\n",
              "    90% {\n",
              "      border-color: transparent;\n",
              "      border-bottom-color: var(--fill-color);\n",
              "    }\n",
              "  }\n",
              "</style>\n",
              "\n",
              "  <script>\n",
              "    async function quickchart(key) {\n",
              "      const quickchartButtonEl =\n",
              "        document.querySelector('#' + key + ' button');\n",
              "      quickchartButtonEl.disabled = true;  // To prevent multiple clicks.\n",
              "      quickchartButtonEl.classList.add('colab-df-spinner');\n",
              "      try {\n",
              "        const charts = await google.colab.kernel.invokeFunction(\n",
              "            'suggestCharts', [key], {});\n",
              "      } catch (error) {\n",
              "        console.error('Error during call to suggestCharts:', error);\n",
              "      }\n",
              "      quickchartButtonEl.classList.remove('colab-df-spinner');\n",
              "      quickchartButtonEl.classList.add('colab-df-quickchart-complete');\n",
              "    }\n",
              "    (() => {\n",
              "      let quickchartButtonEl =\n",
              "        document.querySelector('#df-3e8bdc8a-8cee-4874-ba6d-eced3f4d9467 button');\n",
              "      quickchartButtonEl.style.display =\n",
              "        google.colab.kernel.accessAllowed ? 'block' : 'none';\n",
              "    })();\n",
              "  </script>\n",
              "</div>\n",
              "\n",
              "  <div id=\"id_5b110776-d1a2-4fea-8207-064d15108cce\">\n",
              "    <style>\n",
              "      .colab-df-generate {\n",
              "        background-color: #E8F0FE;\n",
              "        border: none;\n",
              "        border-radius: 50%;\n",
              "        cursor: pointer;\n",
              "        display: none;\n",
              "        fill: #1967D2;\n",
              "        height: 32px;\n",
              "        padding: 0 0 0 0;\n",
              "        width: 32px;\n",
              "      }\n",
              "\n",
              "      .colab-df-generate:hover {\n",
              "        background-color: #E2EBFA;\n",
              "        box-shadow: 0px 1px 2px rgba(60, 64, 67, 0.3), 0px 1px 3px 1px rgba(60, 64, 67, 0.15);\n",
              "        fill: #174EA6;\n",
              "      }\n",
              "\n",
              "      [theme=dark] .colab-df-generate {\n",
              "        background-color: #3B4455;\n",
              "        fill: #D2E3FC;\n",
              "      }\n",
              "\n",
              "      [theme=dark] .colab-df-generate:hover {\n",
              "        background-color: #434B5C;\n",
              "        box-shadow: 0px 1px 3px 1px rgba(0, 0, 0, 0.15);\n",
              "        filter: drop-shadow(0px 1px 2px rgba(0, 0, 0, 0.3));\n",
              "        fill: #FFFFFF;\n",
              "      }\n",
              "    </style>\n",
              "    <button class=\"colab-df-generate\" onclick=\"generateWithVariable('df_forbes')\"\n",
              "            title=\"Generate code using this dataframe.\"\n",
              "            style=\"display:none;\">\n",
              "\n",
              "  <svg xmlns=\"http://www.w3.org/2000/svg\" height=\"24px\"viewBox=\"0 0 24 24\"\n",
              "       width=\"24px\">\n",
              "    <path d=\"M7,19H8.4L18.45,9,17,7.55,7,17.6ZM5,21V16.75L18.45,3.32a2,2,0,0,1,2.83,0l1.4,1.43a1.91,1.91,0,0,1,.58,1.4,1.91,1.91,0,0,1-.58,1.4L9.25,21ZM18.45,9,17,7.55Zm-12,3A5.31,5.31,0,0,0,4.9,8.1,5.31,5.31,0,0,0,1,6.5,5.31,5.31,0,0,0,4.9,4.9,5.31,5.31,0,0,0,6.5,1,5.31,5.31,0,0,0,8.1,4.9,5.31,5.31,0,0,0,12,6.5,5.46,5.46,0,0,0,6.5,12Z\"/>\n",
              "  </svg>\n",
              "    </button>\n",
              "    <script>\n",
              "      (() => {\n",
              "      const buttonEl =\n",
              "        document.querySelector('#id_5b110776-d1a2-4fea-8207-064d15108cce button.colab-df-generate');\n",
              "      buttonEl.style.display =\n",
              "        google.colab.kernel.accessAllowed ? 'block' : 'none';\n",
              "\n",
              "      buttonEl.onclick = () => {\n",
              "        google.colab.notebook.generateWithVariable('df_forbes');\n",
              "      }\n",
              "      })();\n",
              "    </script>\n",
              "  </div>\n",
              "\n",
              "    </div>\n",
              "  </div>\n"
            ]
          },
          "metadata": {},
          "execution_count": 59
        }
      ]
    },
    {
      "cell_type": "code",
      "source": [
        "#Qual a empresa mais valiosa da lista da Forbes 2000?"
      ],
      "metadata": {
        "id": "PDiFzcgiIvIc"
      },
      "execution_count": null,
      "outputs": []
    },
    {
      "cell_type": "code",
      "source": [
        "valor_maximo = df_forbes['marketvalue'].max()\n",
        "valor_maximo"
      ],
      "metadata": {
        "colab": {
          "base_uri": "https://localhost:8080/"
        },
        "id": "uvwkf2NuLaI7",
        "outputId": "c538d55d-0598-4dcb-f087-fca2ec15bbfa"
      },
      "execution_count": null,
      "outputs": [
        {
          "output_type": "execute_result",
          "data": {
            "text/plain": [
              "328.54"
            ]
          },
          "metadata": {},
          "execution_count": 15
        }
      ]
    },
    {
      "cell_type": "code",
      "source": [
        "indi_max = df_forbes[df_forbes['marketvalue'] == valor_maximo].index[0]\n",
        "indi_max"
      ],
      "metadata": {
        "colab": {
          "base_uri": "https://localhost:8080/"
        },
        "id": "Xn_dpoQ-p9t8",
        "outputId": "6126186b-04a0-4f90-a967-eb144cc789a6"
      },
      "execution_count": null,
      "outputs": [
        {
          "output_type": "execute_result",
          "data": {
            "text/plain": [
              "2"
            ]
          },
          "metadata": {},
          "execution_count": 14
        }
      ]
    },
    {
      "cell_type": "code",
      "source": [
        "empresa_valiosa = df_forbes.loc[indi_max]['name']\n",
        "empresa_valiosa"
      ],
      "metadata": {
        "colab": {
          "base_uri": "https://localhost:8080/",
          "height": 35
        },
        "id": "2TzSGw4fqpQb",
        "outputId": "467c8632-e47e-495a-b178-7acbb9649a3c"
      },
      "execution_count": null,
      "outputs": [
        {
          "output_type": "execute_result",
          "data": {
            "text/plain": [
              "'General Electric'"
            ],
            "application/vnd.google.colaboratory.intrinsic+json": {
              "type": "string"
            }
          },
          "metadata": {},
          "execution_count": 16
        }
      ]
    },
    {
      "cell_type": "markdown",
      "source": [
        "Forma mais direta que resolver a questão.\n",
        "O df_forbes.loc é é usado para localizar a linha correspondente a esse índice.\n",
        "\n",
        "> df_forbes['marketvalue'].idxmax() retorna o índice do valor máximo na coluna \"marketvalue\".\n",
        "\n"
      ],
      "metadata": {
        "id": "kjXjD9Vqyoe0"
      }
    },
    {
      "cell_type": "code",
      "source": [
        "empresa_vali = df_forbes.loc[df_forbes['marketvalue'].idxmax()]['name']\n",
        "print('A empresa mais valiosa é:', empresa_vali)"
      ],
      "metadata": {
        "colab": {
          "base_uri": "https://localhost:8080/"
        },
        "id": "fpzcapsoyWbx",
        "outputId": "31ad0715-9a18-4224-b646-3deebf9013ab"
      },
      "execution_count": null,
      "outputs": [
        {
          "output_type": "stream",
          "name": "stdout",
          "text": [
            "A empresa mais valiosa é: General Electric\n"
          ]
        }
      ]
    },
    {
      "cell_type": "code",
      "source": [
        "#atividade 2 Construa uma tabela com as TOP 10 empresas mais lucrativas da lista."
      ],
      "metadata": {
        "id": "x5pbQnVp6F44"
      },
      "execution_count": null,
      "outputs": []
    },
    {
      "cell_type": "code",
      "source": [
        "top_10_empresas_lucrativas = df_forbes.nlargest(10, 'profits')\n",
        "#print(tabela_nome_lucro)"
      ],
      "metadata": {
        "id": "vgcHIYEVL-jk"
      },
      "execution_count": null,
      "outputs": []
    },
    {
      "cell_type": "code",
      "source": [
        "print(top_10_empresas_lucrativas)"
      ],
      "metadata": {
        "colab": {
          "base_uri": "https://localhost:8080/"
        },
        "id": "-ZOWmOkub-2I",
        "outputId": "751f8855-a57e-4c4e-bad5-df9f77a8c7e0"
      },
      "execution_count": null,
      "outputs": [
        {
          "output_type": "stream",
          "name": "stdout",
          "text": [
            "    rank              name         country                category   sales  profits   assets  \\\n",
            "4      4        ExxonMobil   United States    Oil & gas operations  222.88    20.96   166.99   \n",
            "1      1         Citigroup   United States                 Banking   94.71    17.85  1264.03   \n",
            "2      2  General Electric   United States           Conglomerates  134.19    15.59   626.93   \n",
            "6      6   Bank of America   United States                 Banking   49.01    10.81   736.45   \n",
            "5      5                BP  United Kingdom    Oil & gas operations  232.57    10.27   177.57   \n",
            "20    20       Freddie Mac   United States  Diversified financials   46.26    10.09   752.25   \n",
            "22    22      Altria Group   United States    Food drink & tobacco   60.70     9.20    96.18   \n",
            "10    10   Wal-Mart Stores   United States               Retailing  256.33     9.05   104.91   \n",
            "31    31         Microsoft   United States     Software & services   34.27     8.88    85.94   \n",
            "17    17             Total          France    Oil & gas operations  131.64     8.84    87.84   \n",
            "\n",
            "    marketvalue  \n",
            "4        277.02  \n",
            "1        255.30  \n",
            "2        328.54  \n",
            "6        117.55  \n",
            "5        173.54  \n",
            "20        44.25  \n",
            "22       111.02  \n",
            "10       243.74  \n",
            "31       287.02  \n",
            "17       116.64  \n"
          ]
        }
      ]
    },
    {
      "cell_type": "code",
      "source": [
        "tabela_nome_lucro = top_10_empresas_lucrativas[['name', 'profits']]"
      ],
      "metadata": {
        "id": "wwSLqoeNBDNb"
      },
      "execution_count": null,
      "outputs": []
    },
    {
      "cell_type": "code",
      "source": [
        "print(tabela_nome_lucro)"
      ],
      "metadata": {
        "colab": {
          "base_uri": "https://localhost:8080/"
        },
        "id": "uIRjttf0BJz-",
        "outputId": "815859f9-61b1-4161-ae41-26846945e7aa"
      },
      "execution_count": null,
      "outputs": [
        {
          "output_type": "stream",
          "name": "stdout",
          "text": [
            "                name  profits\n",
            "4         ExxonMobil    20.96\n",
            "1          Citigroup    17.85\n",
            "2   General Electric    15.59\n",
            "6    Bank of America    10.81\n",
            "5                 BP    10.27\n",
            "20       Freddie Mac    10.09\n",
            "22      Altria Group     9.20\n",
            "10   Wal-Mart Stores     9.05\n",
            "31         Microsoft     8.88\n",
            "17             Total     8.84\n"
          ]
        }
      ]
    }
  ]
}
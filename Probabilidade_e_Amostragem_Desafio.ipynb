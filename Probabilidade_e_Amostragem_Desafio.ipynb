{
  "cells": [
    {
      "cell_type": "markdown",
      "metadata": {
        "id": "view-in-github",
        "colab_type": "text"
      },
      "source": [
        "<a href=\"https://colab.research.google.com/github/raquel-maia/python-dados/blob/main/Probabilidade_e_Amostragem_Desafio.ipynb\" target=\"_parent\"><img src=\"https://colab.research.google.com/assets/colab-badge.svg\" alt=\"Open In Colab\"/></a>"
      ]
    },
    {
      "cell_type": "code",
      "execution_count": null,
      "metadata": {
        "id": "p8lwK1wG2ogj"
      },
      "outputs": [],
      "source": [
        "import pandas as pd\n",
        "\n",
        "import seaborn as sns #visualização de dados\n",
        "import matplotlib.pyplot as plt #visualização de dados"
      ]
    },
    {
      "cell_type": "code",
      "source": [
        "import numpy as np #manipulação de dados"
      ],
      "metadata": {
        "id": "XFoKzMEs7A-F"
      },
      "execution_count": null,
      "outputs": []
    },
    {
      "cell_type": "code",
      "source": [
        "from scipy.stats import norm #biblioteca para estatística"
      ],
      "metadata": {
        "id": "5HgE6eA9Q6Ss"
      },
      "execution_count": null,
      "outputs": []
    },
    {
      "cell_type": "code",
      "execution_count": null,
      "metadata": {
        "id": "eNcLVqGEJ1SK"
      },
      "outputs": [],
      "source": [
        "populacao_df = pd.read_csv(\"populacao_brasileira.csv.csv\", sep = ',')"
      ]
    },
    {
      "cell_type": "code",
      "execution_count": null,
      "metadata": {
        "id": "zMijBIi5iM_I",
        "colab": {
          "base_uri": "https://localhost:8080/",
          "height": 423
        },
        "outputId": "af54ebaf-72f9-40ce-9aef-87212cbb33d0"
      },
      "outputs": [
        {
          "output_type": "execute_result",
          "data": {
            "text/plain": [
              "    Unnamed: 0 estado  idade   escolaridade nível de proficiência em inglês  \\\n",
              "0            0     MA     56    Fundamental                   Intermediário   \n",
              "1            1     BA     46       Superior                          Básico   \n",
              "2            2     AM     32    Fundamental                   Intermediário   \n",
              "3            3     CE     60       Superior                          Básico   \n",
              "4            4     SE     25    Fundamental                        Avançado   \n",
              "..         ...    ...    ...            ...                             ...   \n",
              "95          95     PI     24  Pós-graduação                   Intermediário   \n",
              "96          96     RS     26  Pós-graduação                        Avançado   \n",
              "97          97     AM     41       Superior                   Intermediário   \n",
              "98          98     MA     18    Fundamental                   Intermediário   \n",
              "99          99     SP     61    Fundamental                          Básico   \n",
              "\n",
              "      renda sexo  \n",
              "0   4006.29    F  \n",
              "1   2423.11    M  \n",
              "2   3835.69    M  \n",
              "3   1870.29    M  \n",
              "4   3529.80    M  \n",
              "..      ...  ...  \n",
              "95  2573.12    M  \n",
              "96  1987.90    F  \n",
              "97  1345.14    F  \n",
              "98  3823.17    M  \n",
              "99  3073.32    F  \n",
              "\n",
              "[100 rows x 7 columns]"
            ],
            "text/html": [
              "\n",
              "  <div id=\"df-db8e2e36-7654-484e-b405-189b2524b374\" class=\"colab-df-container\">\n",
              "    <div>\n",
              "<style scoped>\n",
              "    .dataframe tbody tr th:only-of-type {\n",
              "        vertical-align: middle;\n",
              "    }\n",
              "\n",
              "    .dataframe tbody tr th {\n",
              "        vertical-align: top;\n",
              "    }\n",
              "\n",
              "    .dataframe thead th {\n",
              "        text-align: right;\n",
              "    }\n",
              "</style>\n",
              "<table border=\"1\" class=\"dataframe\">\n",
              "  <thead>\n",
              "    <tr style=\"text-align: right;\">\n",
              "      <th></th>\n",
              "      <th>Unnamed: 0</th>\n",
              "      <th>estado</th>\n",
              "      <th>idade</th>\n",
              "      <th>escolaridade</th>\n",
              "      <th>nível de proficiência em inglês</th>\n",
              "      <th>renda</th>\n",
              "      <th>sexo</th>\n",
              "    </tr>\n",
              "  </thead>\n",
              "  <tbody>\n",
              "    <tr>\n",
              "      <th>0</th>\n",
              "      <td>0</td>\n",
              "      <td>MA</td>\n",
              "      <td>56</td>\n",
              "      <td>Fundamental</td>\n",
              "      <td>Intermediário</td>\n",
              "      <td>4006.29</td>\n",
              "      <td>F</td>\n",
              "    </tr>\n",
              "    <tr>\n",
              "      <th>1</th>\n",
              "      <td>1</td>\n",
              "      <td>BA</td>\n",
              "      <td>46</td>\n",
              "      <td>Superior</td>\n",
              "      <td>Básico</td>\n",
              "      <td>2423.11</td>\n",
              "      <td>M</td>\n",
              "    </tr>\n",
              "    <tr>\n",
              "      <th>2</th>\n",
              "      <td>2</td>\n",
              "      <td>AM</td>\n",
              "      <td>32</td>\n",
              "      <td>Fundamental</td>\n",
              "      <td>Intermediário</td>\n",
              "      <td>3835.69</td>\n",
              "      <td>M</td>\n",
              "    </tr>\n",
              "    <tr>\n",
              "      <th>3</th>\n",
              "      <td>3</td>\n",
              "      <td>CE</td>\n",
              "      <td>60</td>\n",
              "      <td>Superior</td>\n",
              "      <td>Básico</td>\n",
              "      <td>1870.29</td>\n",
              "      <td>M</td>\n",
              "    </tr>\n",
              "    <tr>\n",
              "      <th>4</th>\n",
              "      <td>4</td>\n",
              "      <td>SE</td>\n",
              "      <td>25</td>\n",
              "      <td>Fundamental</td>\n",
              "      <td>Avançado</td>\n",
              "      <td>3529.80</td>\n",
              "      <td>M</td>\n",
              "    </tr>\n",
              "    <tr>\n",
              "      <th>...</th>\n",
              "      <td>...</td>\n",
              "      <td>...</td>\n",
              "      <td>...</td>\n",
              "      <td>...</td>\n",
              "      <td>...</td>\n",
              "      <td>...</td>\n",
              "      <td>...</td>\n",
              "    </tr>\n",
              "    <tr>\n",
              "      <th>95</th>\n",
              "      <td>95</td>\n",
              "      <td>PI</td>\n",
              "      <td>24</td>\n",
              "      <td>Pós-graduação</td>\n",
              "      <td>Intermediário</td>\n",
              "      <td>2573.12</td>\n",
              "      <td>M</td>\n",
              "    </tr>\n",
              "    <tr>\n",
              "      <th>96</th>\n",
              "      <td>96</td>\n",
              "      <td>RS</td>\n",
              "      <td>26</td>\n",
              "      <td>Pós-graduação</td>\n",
              "      <td>Avançado</td>\n",
              "      <td>1987.90</td>\n",
              "      <td>F</td>\n",
              "    </tr>\n",
              "    <tr>\n",
              "      <th>97</th>\n",
              "      <td>97</td>\n",
              "      <td>AM</td>\n",
              "      <td>41</td>\n",
              "      <td>Superior</td>\n",
              "      <td>Intermediário</td>\n",
              "      <td>1345.14</td>\n",
              "      <td>F</td>\n",
              "    </tr>\n",
              "    <tr>\n",
              "      <th>98</th>\n",
              "      <td>98</td>\n",
              "      <td>MA</td>\n",
              "      <td>18</td>\n",
              "      <td>Fundamental</td>\n",
              "      <td>Intermediário</td>\n",
              "      <td>3823.17</td>\n",
              "      <td>M</td>\n",
              "    </tr>\n",
              "    <tr>\n",
              "      <th>99</th>\n",
              "      <td>99</td>\n",
              "      <td>SP</td>\n",
              "      <td>61</td>\n",
              "      <td>Fundamental</td>\n",
              "      <td>Básico</td>\n",
              "      <td>3073.32</td>\n",
              "      <td>F</td>\n",
              "    </tr>\n",
              "  </tbody>\n",
              "</table>\n",
              "<p>100 rows × 7 columns</p>\n",
              "</div>\n",
              "    <div class=\"colab-df-buttons\">\n",
              "\n",
              "  <div class=\"colab-df-container\">\n",
              "    <button class=\"colab-df-convert\" onclick=\"convertToInteractive('df-db8e2e36-7654-484e-b405-189b2524b374')\"\n",
              "            title=\"Convert this dataframe to an interactive table.\"\n",
              "            style=\"display:none;\">\n",
              "\n",
              "  <svg xmlns=\"http://www.w3.org/2000/svg\" height=\"24px\" viewBox=\"0 -960 960 960\">\n",
              "    <path d=\"M120-120v-720h720v720H120Zm60-500h600v-160H180v160Zm220 220h160v-160H400v160Zm0 220h160v-160H400v160ZM180-400h160v-160H180v160Zm440 0h160v-160H620v160ZM180-180h160v-160H180v160Zm440 0h160v-160H620v160Z\"/>\n",
              "  </svg>\n",
              "    </button>\n",
              "\n",
              "  <style>\n",
              "    .colab-df-container {\n",
              "      display:flex;\n",
              "      gap: 12px;\n",
              "    }\n",
              "\n",
              "    .colab-df-convert {\n",
              "      background-color: #E8F0FE;\n",
              "      border: none;\n",
              "      border-radius: 50%;\n",
              "      cursor: pointer;\n",
              "      display: none;\n",
              "      fill: #1967D2;\n",
              "      height: 32px;\n",
              "      padding: 0 0 0 0;\n",
              "      width: 32px;\n",
              "    }\n",
              "\n",
              "    .colab-df-convert:hover {\n",
              "      background-color: #E2EBFA;\n",
              "      box-shadow: 0px 1px 2px rgba(60, 64, 67, 0.3), 0px 1px 3px 1px rgba(60, 64, 67, 0.15);\n",
              "      fill: #174EA6;\n",
              "    }\n",
              "\n",
              "    .colab-df-buttons div {\n",
              "      margin-bottom: 4px;\n",
              "    }\n",
              "\n",
              "    [theme=dark] .colab-df-convert {\n",
              "      background-color: #3B4455;\n",
              "      fill: #D2E3FC;\n",
              "    }\n",
              "\n",
              "    [theme=dark] .colab-df-convert:hover {\n",
              "      background-color: #434B5C;\n",
              "      box-shadow: 0px 1px 3px 1px rgba(0, 0, 0, 0.15);\n",
              "      filter: drop-shadow(0px 1px 2px rgba(0, 0, 0, 0.3));\n",
              "      fill: #FFFFFF;\n",
              "    }\n",
              "  </style>\n",
              "\n",
              "    <script>\n",
              "      const buttonEl =\n",
              "        document.querySelector('#df-db8e2e36-7654-484e-b405-189b2524b374 button.colab-df-convert');\n",
              "      buttonEl.style.display =\n",
              "        google.colab.kernel.accessAllowed ? 'block' : 'none';\n",
              "\n",
              "      async function convertToInteractive(key) {\n",
              "        const element = document.querySelector('#df-db8e2e36-7654-484e-b405-189b2524b374');\n",
              "        const dataTable =\n",
              "          await google.colab.kernel.invokeFunction('convertToInteractive',\n",
              "                                                    [key], {});\n",
              "        if (!dataTable) return;\n",
              "\n",
              "        const docLinkHtml = 'Like what you see? Visit the ' +\n",
              "          '<a target=\"_blank\" href=https://colab.research.google.com/notebooks/data_table.ipynb>data table notebook</a>'\n",
              "          + ' to learn more about interactive tables.';\n",
              "        element.innerHTML = '';\n",
              "        dataTable['output_type'] = 'display_data';\n",
              "        await google.colab.output.renderOutput(dataTable, element);\n",
              "        const docLink = document.createElement('div');\n",
              "        docLink.innerHTML = docLinkHtml;\n",
              "        element.appendChild(docLink);\n",
              "      }\n",
              "    </script>\n",
              "  </div>\n",
              "\n",
              "\n",
              "<div id=\"df-ffb08828-f58e-41da-92ea-524414145b7a\">\n",
              "  <button class=\"colab-df-quickchart\" onclick=\"quickchart('df-ffb08828-f58e-41da-92ea-524414145b7a')\"\n",
              "            title=\"Suggest charts\"\n",
              "            style=\"display:none;\">\n",
              "\n",
              "<svg xmlns=\"http://www.w3.org/2000/svg\" height=\"24px\"viewBox=\"0 0 24 24\"\n",
              "     width=\"24px\">\n",
              "    <g>\n",
              "        <path d=\"M19 3H5c-1.1 0-2 .9-2 2v14c0 1.1.9 2 2 2h14c1.1 0 2-.9 2-2V5c0-1.1-.9-2-2-2zM9 17H7v-7h2v7zm4 0h-2V7h2v10zm4 0h-2v-4h2v4z\"/>\n",
              "    </g>\n",
              "</svg>\n",
              "  </button>\n",
              "\n",
              "<style>\n",
              "  .colab-df-quickchart {\n",
              "      --bg-color: #E8F0FE;\n",
              "      --fill-color: #1967D2;\n",
              "      --hover-bg-color: #E2EBFA;\n",
              "      --hover-fill-color: #174EA6;\n",
              "      --disabled-fill-color: #AAA;\n",
              "      --disabled-bg-color: #DDD;\n",
              "  }\n",
              "\n",
              "  [theme=dark] .colab-df-quickchart {\n",
              "      --bg-color: #3B4455;\n",
              "      --fill-color: #D2E3FC;\n",
              "      --hover-bg-color: #434B5C;\n",
              "      --hover-fill-color: #FFFFFF;\n",
              "      --disabled-bg-color: #3B4455;\n",
              "      --disabled-fill-color: #666;\n",
              "  }\n",
              "\n",
              "  .colab-df-quickchart {\n",
              "    background-color: var(--bg-color);\n",
              "    border: none;\n",
              "    border-radius: 50%;\n",
              "    cursor: pointer;\n",
              "    display: none;\n",
              "    fill: var(--fill-color);\n",
              "    height: 32px;\n",
              "    padding: 0;\n",
              "    width: 32px;\n",
              "  }\n",
              "\n",
              "  .colab-df-quickchart:hover {\n",
              "    background-color: var(--hover-bg-color);\n",
              "    box-shadow: 0 1px 2px rgba(60, 64, 67, 0.3), 0 1px 3px 1px rgba(60, 64, 67, 0.15);\n",
              "    fill: var(--button-hover-fill-color);\n",
              "  }\n",
              "\n",
              "  .colab-df-quickchart-complete:disabled,\n",
              "  .colab-df-quickchart-complete:disabled:hover {\n",
              "    background-color: var(--disabled-bg-color);\n",
              "    fill: var(--disabled-fill-color);\n",
              "    box-shadow: none;\n",
              "  }\n",
              "\n",
              "  .colab-df-spinner {\n",
              "    border: 2px solid var(--fill-color);\n",
              "    border-color: transparent;\n",
              "    border-bottom-color: var(--fill-color);\n",
              "    animation:\n",
              "      spin 1s steps(1) infinite;\n",
              "  }\n",
              "\n",
              "  @keyframes spin {\n",
              "    0% {\n",
              "      border-color: transparent;\n",
              "      border-bottom-color: var(--fill-color);\n",
              "      border-left-color: var(--fill-color);\n",
              "    }\n",
              "    20% {\n",
              "      border-color: transparent;\n",
              "      border-left-color: var(--fill-color);\n",
              "      border-top-color: var(--fill-color);\n",
              "    }\n",
              "    30% {\n",
              "      border-color: transparent;\n",
              "      border-left-color: var(--fill-color);\n",
              "      border-top-color: var(--fill-color);\n",
              "      border-right-color: var(--fill-color);\n",
              "    }\n",
              "    40% {\n",
              "      border-color: transparent;\n",
              "      border-right-color: var(--fill-color);\n",
              "      border-top-color: var(--fill-color);\n",
              "    }\n",
              "    60% {\n",
              "      border-color: transparent;\n",
              "      border-right-color: var(--fill-color);\n",
              "    }\n",
              "    80% {\n",
              "      border-color: transparent;\n",
              "      border-right-color: var(--fill-color);\n",
              "      border-bottom-color: var(--fill-color);\n",
              "    }\n",
              "    90% {\n",
              "      border-color: transparent;\n",
              "      border-bottom-color: var(--fill-color);\n",
              "    }\n",
              "  }\n",
              "</style>\n",
              "\n",
              "  <script>\n",
              "    async function quickchart(key) {\n",
              "      const quickchartButtonEl =\n",
              "        document.querySelector('#' + key + ' button');\n",
              "      quickchartButtonEl.disabled = true;  // To prevent multiple clicks.\n",
              "      quickchartButtonEl.classList.add('colab-df-spinner');\n",
              "      try {\n",
              "        const charts = await google.colab.kernel.invokeFunction(\n",
              "            'suggestCharts', [key], {});\n",
              "      } catch (error) {\n",
              "        console.error('Error during call to suggestCharts:', error);\n",
              "      }\n",
              "      quickchartButtonEl.classList.remove('colab-df-spinner');\n",
              "      quickchartButtonEl.classList.add('colab-df-quickchart-complete');\n",
              "    }\n",
              "    (() => {\n",
              "      let quickchartButtonEl =\n",
              "        document.querySelector('#df-ffb08828-f58e-41da-92ea-524414145b7a button');\n",
              "      quickchartButtonEl.style.display =\n",
              "        google.colab.kernel.accessAllowed ? 'block' : 'none';\n",
              "    })();\n",
              "  </script>\n",
              "</div>\n",
              "\n",
              "    </div>\n",
              "  </div>\n"
            ],
            "application/vnd.google.colaboratory.intrinsic+json": {
              "type": "dataframe",
              "variable_name": "populacao_df",
              "summary": "{\n  \"name\": \"populacao_df\",\n  \"rows\": 1000,\n  \"fields\": [\n    {\n      \"column\": \"Unnamed: 0\",\n      \"properties\": {\n        \"dtype\": \"number\",\n        \"std\": 288,\n        \"min\": 0,\n        \"max\": 999,\n        \"num_unique_values\": 1000,\n        \"samples\": [\n          521,\n          737,\n          740\n        ],\n        \"semantic_type\": \"\",\n        \"description\": \"\"\n      }\n    },\n    {\n      \"column\": \"estado\",\n      \"properties\": {\n        \"dtype\": \"category\",\n        \"num_unique_values\": 27,\n        \"samples\": [\n          \"AC\",\n          \"PA\",\n          \"SC\"\n        ],\n        \"semantic_type\": \"\",\n        \"description\": \"\"\n      }\n    },\n    {\n      \"column\": \"idade\",\n      \"properties\": {\n        \"dtype\": \"number\",\n        \"std\": 13,\n        \"min\": 18,\n        \"max\": 64,\n        \"num_unique_values\": 47,\n        \"samples\": [\n          24,\n          48,\n          54\n        ],\n        \"semantic_type\": \"\",\n        \"description\": \"\"\n      }\n    },\n    {\n      \"column\": \"escolaridade\",\n      \"properties\": {\n        \"dtype\": \"category\",\n        \"num_unique_values\": 4,\n        \"samples\": [\n          \"Superior\",\n          \"P\\u00f3s-gradua\\u00e7\\u00e3o\",\n          \"Fundamental\"\n        ],\n        \"semantic_type\": \"\",\n        \"description\": \"\"\n      }\n    },\n    {\n      \"column\": \"n\\u00edvel de profici\\u00eancia em ingl\\u00eas\",\n      \"properties\": {\n        \"dtype\": \"category\",\n        \"num_unique_values\": 3,\n        \"samples\": [\n          \"Intermedi\\u00e1rio\",\n          \"B\\u00e1sico\",\n          \"Avan\\u00e7ado\"\n        ],\n        \"semantic_type\": \"\",\n        \"description\": \"\"\n      }\n    },\n    {\n      \"column\": \"renda\",\n      \"properties\": {\n        \"dtype\": \"number\",\n        \"std\": 996.572239312141,\n        \"min\": 103.74,\n        \"max\": 5632.38,\n        \"num_unique_values\": 998,\n        \"samples\": [\n          2752.82,\n          4218.76,\n          2244.62\n        ],\n        \"semantic_type\": \"\",\n        \"description\": \"\"\n      }\n    },\n    {\n      \"column\": \"sexo\",\n      \"properties\": {\n        \"dtype\": \"category\",\n        \"num_unique_values\": 2,\n        \"samples\": [\n          \"M\",\n          \"F\"\n        ],\n        \"semantic_type\": \"\",\n        \"description\": \"\"\n      }\n    }\n  ]\n}"
            }
          },
          "metadata": {},
          "execution_count": 6
        }
      ],
      "source": [
        "populacao_df.head(100)"
      ]
    },
    {
      "cell_type": "markdown",
      "metadata": {
        "id": "EyrQ9MnNbwMj"
      },
      "source": [
        "##verificar os tipos de dados\n"
      ]
    },
    {
      "cell_type": "code",
      "execution_count": null,
      "metadata": {
        "id": "003m9Dq9Mstj",
        "colab": {
          "base_uri": "https://localhost:8080/",
          "height": 221
        },
        "outputId": "746fc851-1a83-48dc-faba-b958d7e2046d"
      },
      "outputs": [
        {
          "output_type": "stream",
          "name": "stdout",
          "text": [
            "Numero de linhas: 1000\n",
            "Numero de Colunas: 7\n"
          ]
        },
        {
          "output_type": "display_data",
          "data": {
            "text/plain": [
              "'Tipos de variáveis:'"
            ],
            "application/vnd.google.colaboratory.intrinsic+json": {
              "type": "string"
            }
          },
          "metadata": {}
        },
        {
          "output_type": "display_data",
          "data": {
            "text/plain": [
              "Unnamed: 0                           int64\n",
              "estado                              object\n",
              "idade                                int64\n",
              "escolaridade                        object\n",
              "nível de proficiência em inglês     object\n",
              "renda                              float64\n",
              "sexo                                object\n",
              "dtype: object"
            ]
          },
          "metadata": {}
        }
      ],
      "source": [
        "num_linhas, num_colunas = populacao_df.shape\n",
        "tipos_de_variaveis = populacao_df.dtypes\n",
        "\n",
        "print(\"Numero de linhas:\", num_linhas)\n",
        "print(\"Numero de Colunas:\", num_colunas)\n",
        "display(\"Tipos de variáveis:\", tipos_de_variaveis)"
      ]
    },
    {
      "cell_type": "markdown",
      "source": [
        "##verificando o describe para obter as frequencias e medidas das variáveis numéricas"
      ],
      "metadata": {
        "id": "LLYsbUvK5bRY"
      }
    },
    {
      "cell_type": "code",
      "source": [
        "populacao_df.describe()"
      ],
      "metadata": {
        "colab": {
          "base_uri": "https://localhost:8080/",
          "height": 300
        },
        "id": "LXDF4FQJ5mgY",
        "outputId": "c2f5a807-3c44-4796-ddff-e61c89e6b4af"
      },
      "execution_count": null,
      "outputs": [
        {
          "output_type": "execute_result",
          "data": {
            "text/plain": [
              "        Unnamed: 0        idade        renda\n",
              "count  1000.000000  1000.000000  1000.000000\n",
              "mean    499.500000    40.986000  3082.537180\n",
              "std     288.819436    13.497852   996.572239\n",
              "min       0.000000    18.000000   103.740000\n",
              "25%     249.750000    29.000000  2425.815000\n",
              "50%     499.500000    42.000000  3076.415000\n",
              "75%     749.250000    52.000000  3714.487500\n",
              "max     999.000000    64.000000  5632.380000"
            ],
            "text/html": [
              "\n",
              "  <div id=\"df-103f7854-0684-45bf-8290-faa24b53da8c\" class=\"colab-df-container\">\n",
              "    <div>\n",
              "<style scoped>\n",
              "    .dataframe tbody tr th:only-of-type {\n",
              "        vertical-align: middle;\n",
              "    }\n",
              "\n",
              "    .dataframe tbody tr th {\n",
              "        vertical-align: top;\n",
              "    }\n",
              "\n",
              "    .dataframe thead th {\n",
              "        text-align: right;\n",
              "    }\n",
              "</style>\n",
              "<table border=\"1\" class=\"dataframe\">\n",
              "  <thead>\n",
              "    <tr style=\"text-align: right;\">\n",
              "      <th></th>\n",
              "      <th>Unnamed: 0</th>\n",
              "      <th>idade</th>\n",
              "      <th>renda</th>\n",
              "    </tr>\n",
              "  </thead>\n",
              "  <tbody>\n",
              "    <tr>\n",
              "      <th>count</th>\n",
              "      <td>1000.000000</td>\n",
              "      <td>1000.000000</td>\n",
              "      <td>1000.000000</td>\n",
              "    </tr>\n",
              "    <tr>\n",
              "      <th>mean</th>\n",
              "      <td>499.500000</td>\n",
              "      <td>40.986000</td>\n",
              "      <td>3082.537180</td>\n",
              "    </tr>\n",
              "    <tr>\n",
              "      <th>std</th>\n",
              "      <td>288.819436</td>\n",
              "      <td>13.497852</td>\n",
              "      <td>996.572239</td>\n",
              "    </tr>\n",
              "    <tr>\n",
              "      <th>min</th>\n",
              "      <td>0.000000</td>\n",
              "      <td>18.000000</td>\n",
              "      <td>103.740000</td>\n",
              "    </tr>\n",
              "    <tr>\n",
              "      <th>25%</th>\n",
              "      <td>249.750000</td>\n",
              "      <td>29.000000</td>\n",
              "      <td>2425.815000</td>\n",
              "    </tr>\n",
              "    <tr>\n",
              "      <th>50%</th>\n",
              "      <td>499.500000</td>\n",
              "      <td>42.000000</td>\n",
              "      <td>3076.415000</td>\n",
              "    </tr>\n",
              "    <tr>\n",
              "      <th>75%</th>\n",
              "      <td>749.250000</td>\n",
              "      <td>52.000000</td>\n",
              "      <td>3714.487500</td>\n",
              "    </tr>\n",
              "    <tr>\n",
              "      <th>max</th>\n",
              "      <td>999.000000</td>\n",
              "      <td>64.000000</td>\n",
              "      <td>5632.380000</td>\n",
              "    </tr>\n",
              "  </tbody>\n",
              "</table>\n",
              "</div>\n",
              "    <div class=\"colab-df-buttons\">\n",
              "\n",
              "  <div class=\"colab-df-container\">\n",
              "    <button class=\"colab-df-convert\" onclick=\"convertToInteractive('df-103f7854-0684-45bf-8290-faa24b53da8c')\"\n",
              "            title=\"Convert this dataframe to an interactive table.\"\n",
              "            style=\"display:none;\">\n",
              "\n",
              "  <svg xmlns=\"http://www.w3.org/2000/svg\" height=\"24px\" viewBox=\"0 -960 960 960\">\n",
              "    <path d=\"M120-120v-720h720v720H120Zm60-500h600v-160H180v160Zm220 220h160v-160H400v160Zm0 220h160v-160H400v160ZM180-400h160v-160H180v160Zm440 0h160v-160H620v160ZM180-180h160v-160H180v160Zm440 0h160v-160H620v160Z\"/>\n",
              "  </svg>\n",
              "    </button>\n",
              "\n",
              "  <style>\n",
              "    .colab-df-container {\n",
              "      display:flex;\n",
              "      gap: 12px;\n",
              "    }\n",
              "\n",
              "    .colab-df-convert {\n",
              "      background-color: #E8F0FE;\n",
              "      border: none;\n",
              "      border-radius: 50%;\n",
              "      cursor: pointer;\n",
              "      display: none;\n",
              "      fill: #1967D2;\n",
              "      height: 32px;\n",
              "      padding: 0 0 0 0;\n",
              "      width: 32px;\n",
              "    }\n",
              "\n",
              "    .colab-df-convert:hover {\n",
              "      background-color: #E2EBFA;\n",
              "      box-shadow: 0px 1px 2px rgba(60, 64, 67, 0.3), 0px 1px 3px 1px rgba(60, 64, 67, 0.15);\n",
              "      fill: #174EA6;\n",
              "    }\n",
              "\n",
              "    .colab-df-buttons div {\n",
              "      margin-bottom: 4px;\n",
              "    }\n",
              "\n",
              "    [theme=dark] .colab-df-convert {\n",
              "      background-color: #3B4455;\n",
              "      fill: #D2E3FC;\n",
              "    }\n",
              "\n",
              "    [theme=dark] .colab-df-convert:hover {\n",
              "      background-color: #434B5C;\n",
              "      box-shadow: 0px 1px 3px 1px rgba(0, 0, 0, 0.15);\n",
              "      filter: drop-shadow(0px 1px 2px rgba(0, 0, 0, 0.3));\n",
              "      fill: #FFFFFF;\n",
              "    }\n",
              "  </style>\n",
              "\n",
              "    <script>\n",
              "      const buttonEl =\n",
              "        document.querySelector('#df-103f7854-0684-45bf-8290-faa24b53da8c button.colab-df-convert');\n",
              "      buttonEl.style.display =\n",
              "        google.colab.kernel.accessAllowed ? 'block' : 'none';\n",
              "\n",
              "      async function convertToInteractive(key) {\n",
              "        const element = document.querySelector('#df-103f7854-0684-45bf-8290-faa24b53da8c');\n",
              "        const dataTable =\n",
              "          await google.colab.kernel.invokeFunction('convertToInteractive',\n",
              "                                                    [key], {});\n",
              "        if (!dataTable) return;\n",
              "\n",
              "        const docLinkHtml = 'Like what you see? Visit the ' +\n",
              "          '<a target=\"_blank\" href=https://colab.research.google.com/notebooks/data_table.ipynb>data table notebook</a>'\n",
              "          + ' to learn more about interactive tables.';\n",
              "        element.innerHTML = '';\n",
              "        dataTable['output_type'] = 'display_data';\n",
              "        await google.colab.output.renderOutput(dataTable, element);\n",
              "        const docLink = document.createElement('div');\n",
              "        docLink.innerHTML = docLinkHtml;\n",
              "        element.appendChild(docLink);\n",
              "      }\n",
              "    </script>\n",
              "  </div>\n",
              "\n",
              "\n",
              "<div id=\"df-f7cca66e-fc66-4a55-8683-0ad3466ee41a\">\n",
              "  <button class=\"colab-df-quickchart\" onclick=\"quickchart('df-f7cca66e-fc66-4a55-8683-0ad3466ee41a')\"\n",
              "            title=\"Suggest charts\"\n",
              "            style=\"display:none;\">\n",
              "\n",
              "<svg xmlns=\"http://www.w3.org/2000/svg\" height=\"24px\"viewBox=\"0 0 24 24\"\n",
              "     width=\"24px\">\n",
              "    <g>\n",
              "        <path d=\"M19 3H5c-1.1 0-2 .9-2 2v14c0 1.1.9 2 2 2h14c1.1 0 2-.9 2-2V5c0-1.1-.9-2-2-2zM9 17H7v-7h2v7zm4 0h-2V7h2v10zm4 0h-2v-4h2v4z\"/>\n",
              "    </g>\n",
              "</svg>\n",
              "  </button>\n",
              "\n",
              "<style>\n",
              "  .colab-df-quickchart {\n",
              "      --bg-color: #E8F0FE;\n",
              "      --fill-color: #1967D2;\n",
              "      --hover-bg-color: #E2EBFA;\n",
              "      --hover-fill-color: #174EA6;\n",
              "      --disabled-fill-color: #AAA;\n",
              "      --disabled-bg-color: #DDD;\n",
              "  }\n",
              "\n",
              "  [theme=dark] .colab-df-quickchart {\n",
              "      --bg-color: #3B4455;\n",
              "      --fill-color: #D2E3FC;\n",
              "      --hover-bg-color: #434B5C;\n",
              "      --hover-fill-color: #FFFFFF;\n",
              "      --disabled-bg-color: #3B4455;\n",
              "      --disabled-fill-color: #666;\n",
              "  }\n",
              "\n",
              "  .colab-df-quickchart {\n",
              "    background-color: var(--bg-color);\n",
              "    border: none;\n",
              "    border-radius: 50%;\n",
              "    cursor: pointer;\n",
              "    display: none;\n",
              "    fill: var(--fill-color);\n",
              "    height: 32px;\n",
              "    padding: 0;\n",
              "    width: 32px;\n",
              "  }\n",
              "\n",
              "  .colab-df-quickchart:hover {\n",
              "    background-color: var(--hover-bg-color);\n",
              "    box-shadow: 0 1px 2px rgba(60, 64, 67, 0.3), 0 1px 3px 1px rgba(60, 64, 67, 0.15);\n",
              "    fill: var(--button-hover-fill-color);\n",
              "  }\n",
              "\n",
              "  .colab-df-quickchart-complete:disabled,\n",
              "  .colab-df-quickchart-complete:disabled:hover {\n",
              "    background-color: var(--disabled-bg-color);\n",
              "    fill: var(--disabled-fill-color);\n",
              "    box-shadow: none;\n",
              "  }\n",
              "\n",
              "  .colab-df-spinner {\n",
              "    border: 2px solid var(--fill-color);\n",
              "    border-color: transparent;\n",
              "    border-bottom-color: var(--fill-color);\n",
              "    animation:\n",
              "      spin 1s steps(1) infinite;\n",
              "  }\n",
              "\n",
              "  @keyframes spin {\n",
              "    0% {\n",
              "      border-color: transparent;\n",
              "      border-bottom-color: var(--fill-color);\n",
              "      border-left-color: var(--fill-color);\n",
              "    }\n",
              "    20% {\n",
              "      border-color: transparent;\n",
              "      border-left-color: var(--fill-color);\n",
              "      border-top-color: var(--fill-color);\n",
              "    }\n",
              "    30% {\n",
              "      border-color: transparent;\n",
              "      border-left-color: var(--fill-color);\n",
              "      border-top-color: var(--fill-color);\n",
              "      border-right-color: var(--fill-color);\n",
              "    }\n",
              "    40% {\n",
              "      border-color: transparent;\n",
              "      border-right-color: var(--fill-color);\n",
              "      border-top-color: var(--fill-color);\n",
              "    }\n",
              "    60% {\n",
              "      border-color: transparent;\n",
              "      border-right-color: var(--fill-color);\n",
              "    }\n",
              "    80% {\n",
              "      border-color: transparent;\n",
              "      border-right-color: var(--fill-color);\n",
              "      border-bottom-color: var(--fill-color);\n",
              "    }\n",
              "    90% {\n",
              "      border-color: transparent;\n",
              "      border-bottom-color: var(--fill-color);\n",
              "    }\n",
              "  }\n",
              "</style>\n",
              "\n",
              "  <script>\n",
              "    async function quickchart(key) {\n",
              "      const quickchartButtonEl =\n",
              "        document.querySelector('#' + key + ' button');\n",
              "      quickchartButtonEl.disabled = true;  // To prevent multiple clicks.\n",
              "      quickchartButtonEl.classList.add('colab-df-spinner');\n",
              "      try {\n",
              "        const charts = await google.colab.kernel.invokeFunction(\n",
              "            'suggestCharts', [key], {});\n",
              "      } catch (error) {\n",
              "        console.error('Error during call to suggestCharts:', error);\n",
              "      }\n",
              "      quickchartButtonEl.classList.remove('colab-df-spinner');\n",
              "      quickchartButtonEl.classList.add('colab-df-quickchart-complete');\n",
              "    }\n",
              "    (() => {\n",
              "      let quickchartButtonEl =\n",
              "        document.querySelector('#df-f7cca66e-fc66-4a55-8683-0ad3466ee41a button');\n",
              "      quickchartButtonEl.style.display =\n",
              "        google.colab.kernel.accessAllowed ? 'block' : 'none';\n",
              "    })();\n",
              "  </script>\n",
              "</div>\n",
              "\n",
              "    </div>\n",
              "  </div>\n"
            ],
            "application/vnd.google.colaboratory.intrinsic+json": {
              "type": "dataframe",
              "summary": "{\n  \"name\": \"populacao_df\",\n  \"rows\": 8,\n  \"fields\": [\n    {\n      \"column\": \"Unnamed: 0\",\n      \"properties\": {\n        \"dtype\": \"number\",\n        \"std\": 360.1860157939537,\n        \"min\": 0.0,\n        \"max\": 1000.0,\n        \"num_unique_values\": 7,\n        \"samples\": [\n          1000.0,\n          499.5,\n          749.25\n        ],\n        \"semantic_type\": \"\",\n        \"description\": \"\"\n      }\n    },\n    {\n      \"column\": \"idade\",\n      \"properties\": {\n        \"dtype\": \"number\",\n        \"std\": 340.86101014470347,\n        \"min\": 13.497851532595696,\n        \"max\": 1000.0,\n        \"num_unique_values\": 8,\n        \"samples\": [\n          40.986,\n          42.0,\n          1000.0\n        ],\n        \"semantic_type\": \"\",\n        \"description\": \"\"\n      }\n    },\n    {\n      \"column\": \"renda\",\n      \"properties\": {\n        \"dtype\": \"number\",\n        \"std\": 1781.4970040505991,\n        \"min\": 103.74,\n        \"max\": 5632.38,\n        \"num_unique_values\": 8,\n        \"samples\": [\n          3082.5371800000003,\n          3076.415,\n          1000.0\n        ],\n        \"semantic_type\": \"\",\n        \"description\": \"\"\n      }\n    }\n  ]\n}"
            }
          },
          "metadata": {},
          "execution_count": 7
        }
      ]
    },
    {
      "cell_type": "markdown",
      "source": [
        "### Atividade"
      ],
      "metadata": {
        "id": "slcwnmp4fpZ9"
      }
    },
    {
      "cell_type": "markdown",
      "source": [
        "1. Considere pessoas fluentes em inglês, qual a probabilidade\n",
        "complementar? Ou seja, qual a probabilidade de escolhermos uma\n",
        "pessoa aleatória e ela não ser fluente em inglês. Considere fluente\n",
        "quem tem o nível avançado.\n"
      ],
      "metadata": {
        "id": "wl6b9FqOfwEl"
      }
    },
    {
      "cell_type": "code",
      "source": [
        "# Filtrar as pessoas que são fluentes em inglês no nível avançado\n",
        "fluente_ingles_avancado = populacao_df[populacao_df['nível de proficiência em inglês'] == 'Avançado']\n",
        "\n",
        "# Contar o número total de pessoas na amostra (TP)\n",
        "total_pessoas = len(populacao_df)\n",
        "\n",
        "# Contar o número de pessoas fluentes em inglês no nível avançado (FE)\n",
        "fluentes_avancado = len(fluente_ingles_avancado)\n",
        "\n",
        "# Calcular a probabilidade de uma pessoa ser fluente em inglês no nível avançado (PFE)\n",
        "probabilidade_fluente_avancado = fluentes_avancado / total_pessoas\n",
        "\n",
        "# Calcular a probabilidade complementar (CO)\n",
        "probabilidade_complementar = (1 - probabilidade_fluente_avancado)\n",
        "\n",
        "\n",
        "print(\"Probabilidade complementar de escolher uma pessoa não fluente em inglês avançado: {:.2%}\".format(probabilidade_complementar) )"
      ],
      "metadata": {
        "colab": {
          "base_uri": "https://localhost:8080/"
        },
        "id": "pxuSKHqTf37I",
        "outputId": "3665c55b-b615-4e3c-ccbb-ac0aee926053"
      },
      "execution_count": null,
      "outputs": [
        {
          "output_type": "stream",
          "name": "stdout",
          "text": [
            "Probabilidade complementar de escolher uma pessoa não fluente em inglês avançado: 65.60%\n"
          ]
        }
      ]
    },
    {
      "cell_type": "markdown",
      "source": [
        "2. Se uma pessoa escolhida aleatoriamente for de Alagoas ou do Pará,\n",
        "qual é a probabilidade de ela ter uma renda superior a 5 mil reais?\n"
      ],
      "metadata": {
        "id": "PFZvMlbBfr37"
      }
    },
    {
      "cell_type": "code",
      "source": [
        "alagoas_ou_para = populacao_df[(populacao_df['estado'] == 'AL') | (populacao_df['estado'] == 'PA')]\n",
        "\n",
        "# Contar o número total de pessoas de Alagoas ou do Pará\n",
        "total_alagoas_ou_para = len(alagoas_ou_para)\n",
        "\n",
        "# Contar o número de pessoas de Alagoas ou do Pará com renda superior a 5000\n",
        "renda_5k = len(alagoas_ou_para[alagoas_ou_para['renda'] >= 5000])\n",
        "\n",
        "# Calcular a probabilidade\n",
        "probabilidade = renda_5k / total_alagoas_ou_para\n",
        "\n",
        "print(\"Na análise dos estados de Alagoas e Pará, tivemos um total de {} pessoas. E, a probabilidade de uma pessoa de Alagoas ou do Pará ter uma renda superior a 5 mil reais é: {:.2%}\".format(total_alagoas_ou_para, probabilidade)) # é um exemplo de probabilidade condicional que e um evento ocorrer, dado que outro evento já ocorreu. .\n"
      ],
      "metadata": {
        "colab": {
          "base_uri": "https://localhost:8080/"
        },
        "id": "icRwyN8pvnir",
        "outputId": "67c191fb-6b39-447c-84ba-3c945f9a50c9"
      },
      "execution_count": null,
      "outputs": [
        {
          "output_type": "stream",
          "name": "stdout",
          "text": [
            "Na análise dos estados de Alagoas e Pará, tivemos um total de 79 pessoas. E, a probabilidade de uma pessoa de Alagoas ou do Pará ter uma renda superior a 5 mil reais é: 5.06%\n"
          ]
        }
      ]
    },
    {
      "cell_type": "markdown",
      "source": [
        "3. Descubra a probabilidade de uma pessoa ter ensino superior completo\n",
        "no estado do Amazonas. Qual a probabilidade da quinta pessoa que\n",
        "você conversar, que é amazonense, ter ensino superior completo?\n"
      ],
      "metadata": {
        "id": "6y8Vg2ifOC0T"
      }
    },
    {
      "cell_type": "code",
      "source": [
        "from scipy.stats import geom"
      ],
      "metadata": {
        "id": "cszZtpwZDDdq"
      },
      "execution_count": null,
      "outputs": []
    },
    {
      "cell_type": "code",
      "source": [
        "\n",
        "\n",
        "# Filtrar o DataFrame para incluir apenas pessoas do estado do Amazonas\n",
        "pessoas_amazonas = populacao_df.loc[populacao_df['estado'] == 'AM']\n",
        "\n",
        "# Total de pessoas do Amazonas\n",
        "total_pessoas_am = len(pessoas_amazonas)\n",
        "\n",
        "# Filtrar pessoas do Amazonas com ensino superior completo ou pós-graduação\n",
        "nivel_escolar = pessoas_amazonas.loc[pessoas_amazonas['escolaridade'].isin(['Superior', 'Pós-graduação'])]\n",
        "\n",
        "# Total de pessoas do Amazonas com ensino superior completo ou pós-graduação\n",
        "total_superior_pos_grad = len(nivel_escolar)\n",
        "\n",
        "# Calculando a probabilidade de uma pessoa amazonense ter ensino superior completo ou pós-graduação\n",
        "probabilidade_efetiva = total_superior_pos_grad / total_pessoas_am\n",
        "\n",
        "# Probabilidade de não encontrar uma pessoa com ensino superior completo nos primeiros quatro encontros\n",
        "probabilidade_complementar = (1 - probabilidade_efetiva) ** 4\n",
        "\n",
        "# Probabilidade de encontrar uma pessoa com ensino superior completo no quinto encontro\n",
        "prob_pessoa_5_superior = probabilidade_efetiva\n",
        "\n",
        "# Probabilidade total\n",
        "prob_total = probabilidade_complementar * prob_pessoa_5_superior\n",
        "\n",
        "print(\"A probabilidade de a quinta pessoa, que é amazonense, que você conversar ter ensino superior completo é {:.2%}:\".format(prob_total) )"
      ],
      "metadata": {
        "colab": {
          "base_uri": "https://localhost:8080/"
        },
        "id": "b23k5ACVWfCW",
        "outputId": "2a9188e3-f4e8-41bf-f7aa-bc0ca75890a1"
      },
      "execution_count": null,
      "outputs": [
        {
          "output_type": "stream",
          "name": "stdout",
          "text": [
            "A probabilidade de a quinta pessoa, que é amazonense, que você conversar ter ensino superior completo é 2.21%:\n"
          ]
        }
      ]
    },
    {
      "cell_type": "markdown",
      "source": [
        "4. Considerando a renda das pessoas do nosso conjunto, podemos dizer\n",
        "que a renda de uma pessoa brasileira está na sua maioria em que faixa\n",
        "(faça faixa de 1.500 reais)? Qual é a sua função densidade de\n",
        "probabilidade?"
      ],
      "metadata": {
        "id": "qr3dXUjKQXcN"
      }
    },
    {
      "cell_type": "code",
      "source": [
        "# Definindo os bins para dividir as faixas salariais de 1500 em 1500\n",
        "bins = [0, 1501, 3001, 4501, 6000]\n",
        "\n",
        "# Criando categorias com base nas faixas salariais definidas pelos bins\n",
        "categorias_renda = pd.cut(populacao_df['renda'], bins=bins, labels=['renda a', 'renda b', 'renda c', 'renda d'], include_lowest=True)\n",
        "\n",
        "# Contando o número de pessoas em cada faixa salarial\n",
        "contagem_por_faixa = categorias_renda.value_counts()\n",
        "\n",
        "# Plotando o histograma com densidade\n",
        "plt.figure(figsize=(10, 3))\n",
        "sns.histplot(populacao_df['renda'], bins=bins, color='green', kde=True)\n",
        "\n",
        "plt.title('Distribuição de Renda (Histograma)')\n",
        "plt.xlabel('Renda')\n",
        "plt.ylabel('Densidade de Probabilidade')\n",
        "plt.grid(True)\n",
        "plt.show()\n",
        "\n",
        "# Imprimindo o número de pessoas em cada faixa\n",
        "print(\"Renda a (0 - 1500.00):\", contagem_por_faixa['renda a'])\n",
        "print(\"Renda b (1501 - 3000):\", contagem_por_faixa['renda b'])\n",
        "print(\"Renda c (3001 - 4500):\", contagem_por_faixa['renda c'])\n",
        "print(\"Renda d (4501 - 6000):\", contagem_por_faixa['renda d'])\n",
        "\n",
        "\n"
      ],
      "metadata": {
        "colab": {
          "base_uri": "https://localhost:8080/",
          "height": 402
        },
        "id": "BGgqdTMcWWL2",
        "outputId": "9a6ec910-da0b-475c-ac9b-2d6290f1c9b5"
      },
      "execution_count": null,
      "outputs": [
        {
          "output_type": "display_data",
          "data": {
            "text/plain": [
              "<Figure size 1000x300 with 1 Axes>"
            ],
            "image/png": "[encoded data removed]"
          },
          "metadata": {}
        },
        {
          "output_type": "stream",
          "name": "stdout",
          "text": [
            "Renda a (0 - 1500.00): 55\n",
            "Renda b (1501 - 3000): 414\n",
            "Renda c (3001 - 4500): 443\n",
            "Renda d (4501 - 6000): 88\n"
          ]
        }
      ]
    },
    {
      "cell_type": "markdown",
      "source": [
        "5 - Calcule a média e a variância da renda da amostra. Depois faça a\n",
        "distribuição normal, inclua o gráfico.\n"
      ],
      "metadata": {
        "id": "1lqnL2hZWHnp"
      }
    },
    {
      "cell_type": "markdown",
      "source": [],
      "metadata": {
        "id": "cZ8j1nC-VZ5_"
      }
    },
    {
      "cell_type": "code",
      "source": [
        "# Calculando média e variância da renda da amostra\n",
        "media_renda = populacao_df['renda'].mean() #é a soma de todas as rendas dividida pelo número de pessoas (aqui utilizei a função)\n",
        "variancia_renda = populacao_df['renda'].var() # é a diferença de cada individuo - a renda média, elevado ao quadrado. soma((RENDA DE CADA - RENDA_MEDIA)^2)(aqui utilizei a função)\n",
        "\n",
        "print(\"Média da renda:\", media_renda)\n",
        "print(\"Variância da renda:\", variancia_renda)\n",
        "\n",
        "# Plotando a distribuição normal\n",
        "plt.figure(figsize=(12, 6))\n",
        "sns.histplot(populacao_df['renda'], kde =\"True\", color='blue', label='Distribuição Normal')\n",
        "\n",
        "plt.title('Distribuição Normal da Renda')\n",
        "plt.xlabel('Renda')\n",
        "plt.ylabel('Densidade de Probabilidade')\n",
        "plt.legend()\n",
        "plt.grid(True)\n",
        "plt.show()"
      ],
      "metadata": {
        "colab": {
          "base_uri": "https://localhost:8080/",
          "height": 599
        },
        "id": "fxIfKkDcSj9x",
        "outputId": "fb7143c6-f47c-44eb-af2d-951b22478361"
      },
      "execution_count": null,
      "outputs": [
        {
          "output_type": "stream",
          "name": "stdout",
          "text": [
            "Média da renda: 3082.5371800000003\n",
            "Variância da renda: 993156.2281676152\n"
          ]
        },
        {
          "output_type": "display_data",
          "data": {
            "text/plain": [
              "<Figure size 1200x600 with 1 Axes>"
            ],
            "image/png": "[encoded data removed]"
          },
          "metadata": {}
        }
      ]
    },
    {
      "cell_type": "markdown",
      "source": [
        "6. Primeiro considere a probabilidade encontrada no nosso conjunto de\n",
        "pessoas com escolaridade de pós-graduação. Considerando a amostra\n",
        "de população brasileira com 1 milhão de habitantes, qual a\n",
        "probabilidade de encontrarmos 243 mil pessoas com pós-graduação?\n"
      ],
      "metadata": {
        "id": "duj-cTznbF6o"
      }
    },
    {
      "cell_type": "code",
      "source": [
        "from scipy.stats import binom"
      ],
      "metadata": {
        "id": "Yoj-_zAkGsl9"
      },
      "execution_count": null,
      "outputs": []
    },
    {
      "cell_type": "code",
      "source": [
        "# Filtrar o DataFrame para incluir apenas pessoas com escolaridade de pós-graduação\n",
        "populacao_pos_graduado = populacao_df[populacao_df[\"escolaridade\"] == \"Pós-graduação\"]\n",
        "total_pos_graduado = len(populacao_pos_graduado)\n",
        "\n",
        "# Tamanho total da população\n",
        "tamanho_total_populacao = len(populacao_df)\n",
        "\n",
        "# Probabilidade de selecionar uma pessoa com pós-graduação\n",
        "probabilidade_pos_graduado = total_pos_graduado / tamanho_total_populacao\n",
        "\n",
        "nova_amostra = 1000000 #amostra de 1 milhão de habitantes\n",
        "\n",
        "# Tamanho da população\n",
        "tamanho_populacao = 1000000  # 1 milhão de habitantes\n",
        "\n",
        "# Número de pessoas com pós-graduação desejado na amostra\n",
        "num_pessoas_pos_graduado_amostra = 243000\n",
        "\n",
        "# Calcular a probabilidade usando a distribuição binomial\n",
        "probabilidade = binom.pmf(num_pessoas_pos_graduado_amostra, tamanho_populacao, probabilidade_pos_graduado)\n",
        "\n",
        "print(\"A probabilidade de encontrarmos 243 mil pessoas com pós-graduação na amostra é de aproximadamente:\", probabilidade)"
      ],
      "metadata": {
        "colab": {
          "base_uri": "https://localhost:8080/"
        },
        "id": "qn2vS3BDbGrp",
        "outputId": "3f833859-e62a-4bd2-9893-5ab33993c434"
      },
      "execution_count": null,
      "outputs": [
        {
          "output_type": "stream",
          "name": "stdout",
          "text": [
            "A probabilidade de encontrarmos 243 mil pessoas com pós-graduação na amostra é de aproximadamente: 1.1104854289794913e-119\n"
          ]
        }
      ]
    },
    {
      "cell_type": "markdown",
      "source": [
        "7. Somando as densidades nós temos a função de densidade acumulada.\n",
        "Considerando a coluna ‘Escolaridade’ faça a função de densidade\n",
        "acumulada discreta para cada nível de escolaridade."
      ],
      "metadata": {
        "id": "RZ8Cqar14bId"
      }
    },
    {
      "cell_type": "code",
      "source": [
        "# Calcular a densidade acumulada discreta para cada nível de escolaridade utilizando o cumsum\n",
        "densidade_acumulada_por_escolaridade = populacao_df['escolaridade'].value_counts(normalize=True).cumsum()\n",
        "\n",
        "print(\"Densidade Acumulada Discreta para cada nível de escolaridade:\")\n",
        "print(densidade_acumulada_por_escolaridade.map(\"{:.2%}\".format))\n",
        "plt.figure(figsize=(10,6))\n",
        "sns.barplot(x=densidade_acumulada_por_escolaridade.index, y=densidade_acumulada_por_escolaridade.values, color='skyblue')\n",
        "plt.title('Densidade Acumulada Discreta por Nível de Escolaridade')\n",
        "plt.xlabel('Nivel de Escolaridade')\n",
        "plt.ylabel('Desindade Acumulada')\n",
        "plt.xticks(rotation=45, ha='right')# Define as posições e rótulos dos marcadores do eixo x.\n",
        "plt.tight_layout() # Ajusta automaticamente o layout do gráfico para garantir que todos os elementos se ajustem corretamente.\n",
        "plt.show()\n"
      ],
      "metadata": {
        "colab": {
          "base_uri": "https://localhost:8080/",
          "height": 718
        },
        "id": "3xbgl2o7CEyp",
        "outputId": "54621fc0-3125-41f6-a4ec-9a81df555f37"
      },
      "execution_count": null,
      "outputs": [
        {
          "output_type": "stream",
          "name": "stdout",
          "text": [
            "Densidade Acumulada Discreta para cada nível de escolaridade:\n",
            "Fundamental       26.60%\n",
            "Pós-graduação     51.90%\n",
            "Superior          76.20%\n",
            "Médio            100.00%\n",
            "Name: escolaridade, dtype: object\n"
          ]
        },
        {
          "output_type": "display_data",
          "data": {
            "text/plain": [
              "<Figure size 1000x600 with 1 Axes>"
            ],
            "image/png": "[encoded data removed]"
          },
          "metadata": {}
        }
      ]
    },
    {
      "cell_type": "markdown",
      "source": [
        "8. Qual a margem de erro amostral da proporção populacional\n",
        "considerando a proporção de pessoas com nível de inglês\n",
        "intermediário?\n"
      ],
      "metadata": {
        "id": "Xp9iDo-rSlzF"
      }
    },
    {
      "cell_type": "code",
      "source": [
        "nivel_inter = populacao_df[populacao_df[\"nível de proficiência em inglês\"] == \"Intermediário\"]\n",
        "total_nivel_inter = len(nivel_inter)\n",
        "total_populacao = len(populacao_df)\n",
        "probabilidade_sucesso = total_nivel_inter / total_populacao\n",
        "probabilidade_complementar = 1 - probabilidade_sucesso\n",
        "\n",
        "# Nível de confiança\n",
        "confianca = 0.95\n",
        "\n",
        "# Calculando o Z-score correspondente ao nível de confiança\n",
        "z = norm.ppf((1 + confianca) / 2)\n",
        "\n",
        "# Agora, calculamos a margem de erro\n",
        "margem_erro = z * np.sqrt((probabilidade_sucesso * probabilidade_complementar) / total_populacao)\n",
        "\n",
        "print(\"Total da população: \", total_populacao)\n",
        "print(\"Probabilidade de pessoas com inglês de nível intermediário: {:.2%} \".format(probabilidade_sucesso))\n",
        "print(\"Probabilidade de pessoas que não tem inglês de nível intermediário: {:.2%}\".format( probabilidade_complementar))\n",
        "print(\"\\nMargem de erro amostral da proporção populacional: {:.2%}\".format(margem_erro))"
      ],
      "metadata": {
        "colab": {
          "base_uri": "https://localhost:8080/"
        },
        "id": "KIB7qABSSqSx",
        "outputId": "1e0f286f-b998-4bcc-dca1-ebd14164b9b1"
      },
      "execution_count": null,
      "outputs": [
        {
          "output_type": "stream",
          "name": "stdout",
          "text": [
            "Total da população:  1000\n",
            "Probabilidade de pessoas com inglês de nível intermediário: 32.90% \n",
            "Probabilidade de pessoas que não tem inglês de nível intermediário: 67.10%\n",
            "\n",
            "Margem de erro amostral da proporção populacional: 2.91%\n"
          ]
        }
      ]
    },
    {
      "cell_type": "markdown",
      "source": [
        "**Texto de análise para melhor fixação do exercicio:**\n",
        "negrito\n",
        "**Estimativa Pontual:** Calculamos que aproximadamente 32.90% da população tem inglês de nível intermediário.\n",
        "\n",
        "**Margem de Erro:** Determinamos a margem de erro como 2.91%.\n",
        "\n",
        "Intervalo de Confiança: Para obter o intervalo de confiança, subtraímos a margem de erro da estimativa pontual para encontrar o limite inferior e adicionamos a margem de erro para encontrar o limite superior.\n",
        "\n",
        "Limite Inferior: 32.90% - 2.91% = 29.99%\n",
        "Limite Superior: 32.90% + 2.91% = 35.81%\n",
        "\n",
        "Portanto, com 95% de confiança, podemos afirmar que o verdadeiro valor da proporção de pessoas com inglês de nível intermediário na população está provavelmente **entre 29.99% e 35.81%.**\n",
        "\n",
        "Essa conclusão é feita com base na suposição de que a distribuição dos dados segue uma distribuição normal e que a margem de erro nos dá uma ideia da incerteza em torno da nossa estimativa."
      ],
      "metadata": {
        "id": "b0jOs_011-kb"
      }
    },
    {
      "cell_type": "markdown",
      "source": [
        "9. Calcula a renda da população. Qual a probabilidade de encontrar 60\n",
        "pessoas com uma renda mil reais superior à média?:\n",
        "\n",
        "---\n",
        "\n"
      ],
      "metadata": {
        "id": "9tBe9rDz39qO"
      }
    },
    {
      "cell_type": "code",
      "source": [
        "\n",
        "# Calcular a média da renda da população\n",
        "media_renda_populacao = populacao_df['renda'].mean()\n",
        "\n",
        "# Suponha que n seja o tamanho da amostra\n",
        "n_amostra = len(populacao_df)\n",
        "\n",
        "# Calcular a probabilidade de uma pessoa ter uma renda superior à média + 1000\n",
        "p_individual = len(populacao_df[populacao_df['renda'] > media_renda_populacao + 1000]) / n_amostra\n",
        "\n",
        "# Use a probabilidade individual para calcular a probabilidade de exatamente 60 pessoas dentro da amostra terem renda superior à média\n",
        "probabilidade_60_pessoas_amostra = binom.pmf(60, n_amostra, p_individual)\n",
        "\n",
        "print(\"Probabilidade para 60 pessoas dentro da amostra:\", probabilidade_60_pessoas_amostra)"
      ],
      "metadata": {
        "colab": {
          "base_uri": "https://localhost:8080/"
        },
        "id": "hcJviIQA4EFL",
        "outputId": "bc0104e4-6b61-4060-8db7-1889ff67fee3"
      },
      "execution_count": null,
      "outputs": [
        {
          "output_type": "stream",
          "name": "stdout",
          "text": [
            "Probabilidade para 60 pessoas dentro da amostra: 1.099520565163774e-22\n"
          ]
        }
      ]
    },
    {
      "cell_type": "markdown",
      "source": [
        "\n",
        "10. Qual a probabilidade de escolhermos alguém do Sudeste que seja\n",
        "homem, com ensino fundamental e com renda maior que 2 mil reais por\n",
        "mês?\n",
        "\n",
        "\n"
      ],
      "metadata": {
        "id": "j53uswoW3t30"
      }
    },
    {
      "cell_type": "code",
      "source": [
        "# 1. Calcular a probabilidade de ser do Sudeste (RJ, SP, MG, ES)\n",
        "probabilidade_sudeste = len(populacao_df[populacao_df[\"estado\"].isin([\"RJ\", \"SP\", \"MG\", \"ES\"])]) / len(populacao_df)\n",
        "\n",
        "# 2. Calcular a probabilidade de ser homem\n",
        "probabilidade_homem = len(populacao_df[populacao_df[\"sexo\"] == \"M\"]) / len(populacao_df)\n",
        "\n",
        "# 3. Calcular a probabilidade de ter ensino fundamental\n",
        "probabilidade_ensino_fundamental = len(populacao_df[populacao_df[\"escolaridade\"] == \"Fundamental\"]) / len(populacao_df)\n",
        "\n",
        "# 4. Calcular a probabilidade de ter renda maior que 2 mil reais\n",
        "probabilidade_renda_maior_2mil = len(populacao_df[populacao_df[\"renda\"] > 2000]) / len(populacao_df)\n",
        "\n",
        "# 5. Multiplicar todas as probabilidades individuais para obter a probabilidade final\n",
        "probabilidade_final = probabilidade_sudeste * probabilidade_homem * probabilidade_ensino_fundamental * probabilidade_renda_maior_2mil\n",
        "\n",
        "print(\"A probabilidade final é:\", probabilidade_final)\n",
        "\n",
        "\n"
      ],
      "metadata": {
        "colab": {
          "base_uri": "https://localhost:8080/"
        },
        "id": "OlaLHBk9hYaO",
        "outputId": "f7c94205-6b67-4917-926c-30ed3072e32b"
      },
      "execution_count": null,
      "outputs": [
        {
          "output_type": "stream",
          "name": "stdout",
          "text": [
            "A probabilidade final é: 0.017414252856\n"
          ]
        }
      ]
    }
  ],
  "metadata": {
    "colab": {
      "provenance": [],
      "include_colab_link": true
    },
    "kernelspec": {
      "display_name": "Python 3",
      "name": "python3"
    },
    "language_info": {
      "name": "python"
    }
  },
  "nbformat": 4,
  "nbformat_minor": 0
}
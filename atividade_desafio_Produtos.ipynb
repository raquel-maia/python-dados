{
  "nbformat": 4,
  "nbformat_minor": 0,
  "metadata": {
    "colab": {
      "provenance": [],
      "include_colab_link": true
    },
    "kernelspec": {
      "name": "python3",
      "display_name": "Python 3"
    },
    "language_info": {
      "name": "python"
    }
  },
  "cells": [
    {
      "cell_type": "markdown",
      "metadata": {
        "id": "view-in-github",
        "colab_type": "text"
      },
      "source": [
        "<a href=\"https://colab.research.google.com/github/raquel-maia/python-dados/blob/main/atividade_desafio_Produtos.ipynb\" target=\"_parent\"><img src=\"https://colab.research.google.com/assets/colab-badge.svg\" alt=\"Open In Colab\"/></a>"
      ]
    },
    {
      "cell_type": "code",
      "execution_count": null,
      "metadata": {
        "id": "DGegiqOYY1j1"
      },
      "outputs": [],
      "source": [
        "import numpy as np\n",
        "from scipy.stats import norm, ttest_1samp, ttest_ind\n",
        "import pandas as pd\n",
        "import matplotlib.pyplot as plt\n",
        "import seaborn as sns\n",
        "\n"
      ]
    },
    {
      "cell_type": "markdown",
      "source": [
        "Suponha que você trabalha em uma empresa do ramo de cosméticos ou beleza. O\n",
        "Time de produtos dessa empresa está interessado criar novos batons com maior\n",
        "durabilidade. Para isso estão testando 3 diferentes fórmulas para irem a mercado.\n",
        "\n",
        "Com isso, a empresa fez uma pesquisa com varias voluntárias e populou a base de\n",
        "dados (desafio_01_cosmeticos.csv) contendo as seguintes informacoes:\n",
        "\n",
        "● id_produto: código identificador do produto, com a fórmula utilizada. Para\n",
        "diferenciarmos se se trata do batom com a fórmula 1, 2 ou 3\n",
        "\n",
        "● id_voluntária: código identificador da voluntária que utilizou o produto.\n",
        "\n",
        "● durabilidade: quanto tempo o produto durou em horas.\n",
        "\n",
        "● idade: idade da voluntária\n",
        "\n",
        "● exposicao_sol:\n",
        "\n",
        "variável que indica 1 se a voluntária se expos ao sol 0 caso\n",
        "contrário.\n",
        "\n",
        "De posse dessas informacoes, o time de produtos solicitou aos analistas de dados da empresa as seguintes perguntas a serem respondidas:\n",
        "\n",
        "1 - Existe diferenca estatisticamente significativa na durabilidade dos batons com formulas diferentes?\n",
        "\n",
        "2 - Essa diferenca persiste ou nao quando a voluntária se expoe ao sol? E com\n",
        "relacao a idade?\n",
        "\n",
        "3- Qual fórmula de batom voce indicaria para consumidores que buscam maior\n",
        "durabilidade e exposicao ao sol?"
      ],
      "metadata": {
        "id": "qbMCwj8LwqVg"
      }
    },
    {
      "cell_type": "code",
      "source": [
        "#teste de média , diferentes testes, quartis , distribuição"
      ],
      "metadata": {
        "id": "yjd6c4yfw1HO"
      },
      "execution_count": null,
      "outputs": []
    },
    {
      "cell_type": "markdown",
      "source": [
        "# Compreendendo os Dados"
      ],
      "metadata": {
        "id": "nDvGS7choF7W"
      }
    },
    {
      "cell_type": "code",
      "source": [
        "cosmeticos_df = pd.read_csv('desafio_01_cosmeticos_challenge_testehipoteses.csv')"
      ],
      "metadata": {
        "id": "CWyntvogoJ-9"
      },
      "execution_count": null,
      "outputs": []
    },
    {
      "cell_type": "code",
      "source": [
        "cosmeticos_df.head(100)"
      ],
      "metadata": {
        "id": "B4Yp0zNUpG0_",
        "colab": {
          "base_uri": "https://localhost:8080/",
          "height": 424
        },
        "outputId": "6b5a2cc0-449d-474f-e9b9-3d3f7b136b8c"
      },
      "execution_count": null,
      "outputs": [
        {
          "output_type": "execute_result",
          "data": {
            "text/plain": [
              "    id_produto  id_voluntária  durabilidade  idade  exposicao_sol\n",
              "0            1              1            12     40              1\n",
              "1            2              2             5     36              0\n",
              "2            1              3            19     47              0\n",
              "3            1              4            14     36              1\n",
              "4            1              5            17     46              1\n",
              "..         ...            ...           ...    ...            ...\n",
              "95           1             96            10     46              1\n",
              "96           1             97            11     46              1\n",
              "97           1             98            15     48              0\n",
              "98           1             99            18     32              0\n",
              "99           1            100            11     36              1\n",
              "\n",
              "[100 rows x 5 columns]"
            ],
            "text/html": [
              "\n",
              "  <div id=\"df-59be87e8-fd59-4765-bb9b-9601cd63756c\" class=\"colab-df-container\">\n",
              "    <div>\n",
              "<style scoped>\n",
              "    .dataframe tbody tr th:only-of-type {\n",
              "        vertical-align: middle;\n",
              "    }\n",
              "\n",
              "    .dataframe tbody tr th {\n",
              "        vertical-align: top;\n",
              "    }\n",
              "\n",
              "    .dataframe thead th {\n",
              "        text-align: right;\n",
              "    }\n",
              "</style>\n",
              "<table border=\"1\" class=\"dataframe\">\n",
              "  <thead>\n",
              "    <tr style=\"text-align: right;\">\n",
              "      <th></th>\n",
              "      <th>id_produto</th>\n",
              "      <th>id_voluntária</th>\n",
              "      <th>durabilidade</th>\n",
              "      <th>idade</th>\n",
              "      <th>exposicao_sol</th>\n",
              "    </tr>\n",
              "  </thead>\n",
              "  <tbody>\n",
              "    <tr>\n",
              "      <th>0</th>\n",
              "      <td>1</td>\n",
              "      <td>1</td>\n",
              "      <td>12</td>\n",
              "      <td>40</td>\n",
              "      <td>1</td>\n",
              "    </tr>\n",
              "    <tr>\n",
              "      <th>1</th>\n",
              "      <td>2</td>\n",
              "      <td>2</td>\n",
              "      <td>5</td>\n",
              "      <td>36</td>\n",
              "      <td>0</td>\n",
              "    </tr>\n",
              "    <tr>\n",
              "      <th>2</th>\n",
              "      <td>1</td>\n",
              "      <td>3</td>\n",
              "      <td>19</td>\n",
              "      <td>47</td>\n",
              "      <td>0</td>\n",
              "    </tr>\n",
              "    <tr>\n",
              "      <th>3</th>\n",
              "      <td>1</td>\n",
              "      <td>4</td>\n",
              "      <td>14</td>\n",
              "      <td>36</td>\n",
              "      <td>1</td>\n",
              "    </tr>\n",
              "    <tr>\n",
              "      <th>4</th>\n",
              "      <td>1</td>\n",
              "      <td>5</td>\n",
              "      <td>17</td>\n",
              "      <td>46</td>\n",
              "      <td>1</td>\n",
              "    </tr>\n",
              "    <tr>\n",
              "      <th>...</th>\n",
              "      <td>...</td>\n",
              "      <td>...</td>\n",
              "      <td>...</td>\n",
              "      <td>...</td>\n",
              "      <td>...</td>\n",
              "    </tr>\n",
              "    <tr>\n",
              "      <th>95</th>\n",
              "      <td>1</td>\n",
              "      <td>96</td>\n",
              "      <td>10</td>\n",
              "      <td>46</td>\n",
              "      <td>1</td>\n",
              "    </tr>\n",
              "    <tr>\n",
              "      <th>96</th>\n",
              "      <td>1</td>\n",
              "      <td>97</td>\n",
              "      <td>11</td>\n",
              "      <td>46</td>\n",
              "      <td>1</td>\n",
              "    </tr>\n",
              "    <tr>\n",
              "      <th>97</th>\n",
              "      <td>1</td>\n",
              "      <td>98</td>\n",
              "      <td>15</td>\n",
              "      <td>48</td>\n",
              "      <td>0</td>\n",
              "    </tr>\n",
              "    <tr>\n",
              "      <th>98</th>\n",
              "      <td>1</td>\n",
              "      <td>99</td>\n",
              "      <td>18</td>\n",
              "      <td>32</td>\n",
              "      <td>0</td>\n",
              "    </tr>\n",
              "    <tr>\n",
              "      <th>99</th>\n",
              "      <td>1</td>\n",
              "      <td>100</td>\n",
              "      <td>11</td>\n",
              "      <td>36</td>\n",
              "      <td>1</td>\n",
              "    </tr>\n",
              "  </tbody>\n",
              "</table>\n",
              "<p>100 rows × 5 columns</p>\n",
              "</div>\n",
              "    <div class=\"colab-df-buttons\">\n",
              "\n",
              "  <div class=\"colab-df-container\">\n",
              "    <button class=\"colab-df-convert\" onclick=\"convertToInteractive('df-59be87e8-fd59-4765-bb9b-9601cd63756c')\"\n",
              "            title=\"Convert this dataframe to an interactive table.\"\n",
              "            style=\"display:none;\">\n",
              "\n",
              "  <svg xmlns=\"http://www.w3.org/2000/svg\" height=\"24px\" viewBox=\"0 -960 960 960\">\n",
              "    <path d=\"M120-120v-720h720v720H120Zm60-500h600v-160H180v160Zm220 220h160v-160H400v160Zm0 220h160v-160H400v160ZM180-400h160v-160H180v160Zm440 0h160v-160H620v160ZM180-180h160v-160H180v160Zm440 0h160v-160H620v160Z\"/>\n",
              "  </svg>\n",
              "    </button>\n",
              "\n",
              "  <style>\n",
              "    .colab-df-container {\n",
              "      display:flex;\n",
              "      gap: 12px;\n",
              "    }\n",
              "\n",
              "    .colab-df-convert {\n",
              "      background-color: #E8F0FE;\n",
              "      border: none;\n",
              "      border-radius: 50%;\n",
              "      cursor: pointer;\n",
              "      display: none;\n",
              "      fill: #1967D2;\n",
              "      height: 32px;\n",
              "      padding: 0 0 0 0;\n",
              "      width: 32px;\n",
              "    }\n",
              "\n",
              "    .colab-df-convert:hover {\n",
              "      background-color: #E2EBFA;\n",
              "      box-shadow: 0px 1px 2px rgba(60, 64, 67, 0.3), 0px 1px 3px 1px rgba(60, 64, 67, 0.15);\n",
              "      fill: #174EA6;\n",
              "    }\n",
              "\n",
              "    .colab-df-buttons div {\n",
              "      margin-bottom: 4px;\n",
              "    }\n",
              "\n",
              "    [theme=dark] .colab-df-convert {\n",
              "      background-color: #3B4455;\n",
              "      fill: #D2E3FC;\n",
              "    }\n",
              "\n",
              "    [theme=dark] .colab-df-convert:hover {\n",
              "      background-color: #434B5C;\n",
              "      box-shadow: 0px 1px 3px 1px rgba(0, 0, 0, 0.15);\n",
              "      filter: drop-shadow(0px 1px 2px rgba(0, 0, 0, 0.3));\n",
              "      fill: #FFFFFF;\n",
              "    }\n",
              "  </style>\n",
              "\n",
              "    <script>\n",
              "      const buttonEl =\n",
              "        document.querySelector('#df-59be87e8-fd59-4765-bb9b-9601cd63756c button.colab-df-convert');\n",
              "      buttonEl.style.display =\n",
              "        google.colab.kernel.accessAllowed ? 'block' : 'none';\n",
              "\n",
              "      async function convertToInteractive(key) {\n",
              "        const element = document.querySelector('#df-59be87e8-fd59-4765-bb9b-9601cd63756c');\n",
              "        const dataTable =\n",
              "          await google.colab.kernel.invokeFunction('convertToInteractive',\n",
              "                                                    [key], {});\n",
              "        if (!dataTable) return;\n",
              "\n",
              "        const docLinkHtml = 'Like what you see? Visit the ' +\n",
              "          '<a target=\"_blank\" href=https://colab.research.google.com/notebooks/data_table.ipynb>data table notebook</a>'\n",
              "          + ' to learn more about interactive tables.';\n",
              "        element.innerHTML = '';\n",
              "        dataTable['output_type'] = 'display_data';\n",
              "        await google.colab.output.renderOutput(dataTable, element);\n",
              "        const docLink = document.createElement('div');\n",
              "        docLink.innerHTML = docLinkHtml;\n",
              "        element.appendChild(docLink);\n",
              "      }\n",
              "    </script>\n",
              "  </div>\n",
              "\n",
              "\n",
              "<div id=\"df-c9cda947-54ba-47a2-80d6-8d7d122dcd9b\">\n",
              "  <button class=\"colab-df-quickchart\" onclick=\"quickchart('df-c9cda947-54ba-47a2-80d6-8d7d122dcd9b')\"\n",
              "            title=\"Suggest charts\"\n",
              "            style=\"display:none;\">\n",
              "\n",
              "<svg xmlns=\"http://www.w3.org/2000/svg\" height=\"24px\"viewBox=\"0 0 24 24\"\n",
              "     width=\"24px\">\n",
              "    <g>\n",
              "        <path d=\"M19 3H5c-1.1 0-2 .9-2 2v14c0 1.1.9 2 2 2h14c1.1 0 2-.9 2-2V5c0-1.1-.9-2-2-2zM9 17H7v-7h2v7zm4 0h-2V7h2v10zm4 0h-2v-4h2v4z\"/>\n",
              "    </g>\n",
              "</svg>\n",
              "  </button>\n",
              "\n",
              "<style>\n",
              "  .colab-df-quickchart {\n",
              "      --bg-color: #E8F0FE;\n",
              "      --fill-color: #1967D2;\n",
              "      --hover-bg-color: #E2EBFA;\n",
              "      --hover-fill-color: #174EA6;\n",
              "      --disabled-fill-color: #AAA;\n",
              "      --disabled-bg-color: #DDD;\n",
              "  }\n",
              "\n",
              "  [theme=dark] .colab-df-quickchart {\n",
              "      --bg-color: #3B4455;\n",
              "      --fill-color: #D2E3FC;\n",
              "      --hover-bg-color: #434B5C;\n",
              "      --hover-fill-color: #FFFFFF;\n",
              "      --disabled-bg-color: #3B4455;\n",
              "      --disabled-fill-color: #666;\n",
              "  }\n",
              "\n",
              "  .colab-df-quickchart {\n",
              "    background-color: var(--bg-color);\n",
              "    border: none;\n",
              "    border-radius: 50%;\n",
              "    cursor: pointer;\n",
              "    display: none;\n",
              "    fill: var(--fill-color);\n",
              "    height: 32px;\n",
              "    padding: 0;\n",
              "    width: 32px;\n",
              "  }\n",
              "\n",
              "  .colab-df-quickchart:hover {\n",
              "    background-color: var(--hover-bg-color);\n",
              "    box-shadow: 0 1px 2px rgba(60, 64, 67, 0.3), 0 1px 3px 1px rgba(60, 64, 67, 0.15);\n",
              "    fill: var(--button-hover-fill-color);\n",
              "  }\n",
              "\n",
              "  .colab-df-quickchart-complete:disabled,\n",
              "  .colab-df-quickchart-complete:disabled:hover {\n",
              "    background-color: var(--disabled-bg-color);\n",
              "    fill: var(--disabled-fill-color);\n",
              "    box-shadow: none;\n",
              "  }\n",
              "\n",
              "  .colab-df-spinner {\n",
              "    border: 2px solid var(--fill-color);\n",
              "    border-color: transparent;\n",
              "    border-bottom-color: var(--fill-color);\n",
              "    animation:\n",
              "      spin 1s steps(1) infinite;\n",
              "  }\n",
              "\n",
              "  @keyframes spin {\n",
              "    0% {\n",
              "      border-color: transparent;\n",
              "      border-bottom-color: var(--fill-color);\n",
              "      border-left-color: var(--fill-color);\n",
              "    }\n",
              "    20% {\n",
              "      border-color: transparent;\n",
              "      border-left-color: var(--fill-color);\n",
              "      border-top-color: var(--fill-color);\n",
              "    }\n",
              "    30% {\n",
              "      border-color: transparent;\n",
              "      border-left-color: var(--fill-color);\n",
              "      border-top-color: var(--fill-color);\n",
              "      border-right-color: var(--fill-color);\n",
              "    }\n",
              "    40% {\n",
              "      border-color: transparent;\n",
              "      border-right-color: var(--fill-color);\n",
              "      border-top-color: var(--fill-color);\n",
              "    }\n",
              "    60% {\n",
              "      border-color: transparent;\n",
              "      border-right-color: var(--fill-color);\n",
              "    }\n",
              "    80% {\n",
              "      border-color: transparent;\n",
              "      border-right-color: var(--fill-color);\n",
              "      border-bottom-color: var(--fill-color);\n",
              "    }\n",
              "    90% {\n",
              "      border-color: transparent;\n",
              "      border-bottom-color: var(--fill-color);\n",
              "    }\n",
              "  }\n",
              "</style>\n",
              "\n",
              "  <script>\n",
              "    async function quickchart(key) {\n",
              "      const quickchartButtonEl =\n",
              "        document.querySelector('#' + key + ' button');\n",
              "      quickchartButtonEl.disabled = true;  // To prevent multiple clicks.\n",
              "      quickchartButtonEl.classList.add('colab-df-spinner');\n",
              "      try {\n",
              "        const charts = await google.colab.kernel.invokeFunction(\n",
              "            'suggestCharts', [key], {});\n",
              "      } catch (error) {\n",
              "        console.error('Error during call to suggestCharts:', error);\n",
              "      }\n",
              "      quickchartButtonEl.classList.remove('colab-df-spinner');\n",
              "      quickchartButtonEl.classList.add('colab-df-quickchart-complete');\n",
              "    }\n",
              "    (() => {\n",
              "      let quickchartButtonEl =\n",
              "        document.querySelector('#df-c9cda947-54ba-47a2-80d6-8d7d122dcd9b button');\n",
              "      quickchartButtonEl.style.display =\n",
              "        google.colab.kernel.accessAllowed ? 'block' : 'none';\n",
              "    })();\n",
              "  </script>\n",
              "</div>\n",
              "\n",
              "    </div>\n",
              "  </div>\n"
            ],
            "application/vnd.google.colaboratory.intrinsic+json": {
              "type": "dataframe",
              "variable_name": "cosmeticos_df",
              "summary": "{\n  \"name\": \"cosmeticos_df\",\n  \"rows\": 300,\n  \"fields\": [\n    {\n      \"column\": \"id_produto\",\n      \"properties\": {\n        \"dtype\": \"number\",\n        \"std\": 0,\n        \"min\": 1,\n        \"max\": 3,\n        \"num_unique_values\": 3,\n        \"samples\": [\n          1,\n          2,\n          3\n        ],\n        \"semantic_type\": \"\",\n        \"description\": \"\"\n      }\n    },\n    {\n      \"column\": \"id_volunt\\u00e1ria\",\n      \"properties\": {\n        \"dtype\": \"number\",\n        \"std\": 86,\n        \"min\": 1,\n        \"max\": 300,\n        \"num_unique_values\": 300,\n        \"samples\": [\n          204,\n          267,\n          153\n        ],\n        \"semantic_type\": \"\",\n        \"description\": \"\"\n      }\n    },\n    {\n      \"column\": \"durabilidade\",\n      \"properties\": {\n        \"dtype\": \"number\",\n        \"std\": 10,\n        \"min\": 5,\n        \"max\": 48,\n        \"num_unique_values\": 39,\n        \"samples\": [\n          44,\n          27,\n          17\n        ],\n        \"semantic_type\": \"\",\n        \"description\": \"\"\n      }\n    },\n    {\n      \"column\": \"idade\",\n      \"properties\": {\n        \"dtype\": \"number\",\n        \"std\": 12,\n        \"min\": 18,\n        \"max\": 60,\n        \"num_unique_values\": 43,\n        \"samples\": [\n          59,\n          48,\n          41\n        ],\n        \"semantic_type\": \"\",\n        \"description\": \"\"\n      }\n    },\n    {\n      \"column\": \"exposicao_sol\",\n      \"properties\": {\n        \"dtype\": \"number\",\n        \"std\": 0,\n        \"min\": 0,\n        \"max\": 1,\n        \"num_unique_values\": 2,\n        \"samples\": [\n          0,\n          1\n        ],\n        \"semantic_type\": \"\",\n        \"description\": \"\"\n      }\n    }\n  ]\n}"
            }
          },
          "metadata": {},
          "execution_count": 41
        }
      ]
    },
    {
      "cell_type": "code",
      "source": [
        "##dimensões"
      ],
      "metadata": {
        "id": "Md7f12kVpf7K"
      },
      "execution_count": null,
      "outputs": []
    },
    {
      "cell_type": "code",
      "source": [
        "#5 primeiras e últimas linhas e número de linhas e colunas\n",
        "display(cosmeticos_df)"
      ],
      "metadata": {
        "id": "LlFgdcknI_N0",
        "colab": {
          "base_uri": "https://localhost:8080/",
          "height": 424
        },
        "outputId": "a2f4df68-b60d-4c2a-d0d6-36fc8c6eec89"
      },
      "execution_count": null,
      "outputs": [
        {
          "output_type": "display_data",
          "data": {
            "text/plain": [
              "     id_produto  id_voluntária  durabilidade  idade  exposicao_sol\n",
              "0             1              1            12     40              1\n",
              "1             2              2             5     36              0\n",
              "2             1              3            19     47              0\n",
              "3             1              4            14     36              1\n",
              "4             1              5            17     46              1\n",
              "..          ...            ...           ...    ...            ...\n",
              "295           3            296            18     52              0\n",
              "296           3            297            30     19              0\n",
              "297           3            298            43     23              1\n",
              "298           3            299            41     19              0\n",
              "299           3            300            25     21              0\n",
              "\n",
              "[300 rows x 5 columns]"
            ],
            "text/html": [
              "\n",
              "  <div id=\"df-cb1a59b7-3ad6-44d4-b711-a626ef3db571\" class=\"colab-df-container\">\n",
              "    <div>\n",
              "<style scoped>\n",
              "    .dataframe tbody tr th:only-of-type {\n",
              "        vertical-align: middle;\n",
              "    }\n",
              "\n",
              "    .dataframe tbody tr th {\n",
              "        vertical-align: top;\n",
              "    }\n",
              "\n",
              "    .dataframe thead th {\n",
              "        text-align: right;\n",
              "    }\n",
              "</style>\n",
              "<table border=\"1\" class=\"dataframe\">\n",
              "  <thead>\n",
              "    <tr style=\"text-align: right;\">\n",
              "      <th></th>\n",
              "      <th>id_produto</th>\n",
              "      <th>id_voluntária</th>\n",
              "      <th>durabilidade</th>\n",
              "      <th>idade</th>\n",
              "      <th>exposicao_sol</th>\n",
              "    </tr>\n",
              "  </thead>\n",
              "  <tbody>\n",
              "    <tr>\n",
              "      <th>0</th>\n",
              "      <td>1</td>\n",
              "      <td>1</td>\n",
              "      <td>12</td>\n",
              "      <td>40</td>\n",
              "      <td>1</td>\n",
              "    </tr>\n",
              "    <tr>\n",
              "      <th>1</th>\n",
              "      <td>2</td>\n",
              "      <td>2</td>\n",
              "      <td>5</td>\n",
              "      <td>36</td>\n",
              "      <td>0</td>\n",
              "    </tr>\n",
              "    <tr>\n",
              "      <th>2</th>\n",
              "      <td>1</td>\n",
              "      <td>3</td>\n",
              "      <td>19</td>\n",
              "      <td>47</td>\n",
              "      <td>0</td>\n",
              "    </tr>\n",
              "    <tr>\n",
              "      <th>3</th>\n",
              "      <td>1</td>\n",
              "      <td>4</td>\n",
              "      <td>14</td>\n",
              "      <td>36</td>\n",
              "      <td>1</td>\n",
              "    </tr>\n",
              "    <tr>\n",
              "      <th>4</th>\n",
              "      <td>1</td>\n",
              "      <td>5</td>\n",
              "      <td>17</td>\n",
              "      <td>46</td>\n",
              "      <td>1</td>\n",
              "    </tr>\n",
              "    <tr>\n",
              "      <th>...</th>\n",
              "      <td>...</td>\n",
              "      <td>...</td>\n",
              "      <td>...</td>\n",
              "      <td>...</td>\n",
              "      <td>...</td>\n",
              "    </tr>\n",
              "    <tr>\n",
              "      <th>295</th>\n",
              "      <td>3</td>\n",
              "      <td>296</td>\n",
              "      <td>18</td>\n",
              "      <td>52</td>\n",
              "      <td>0</td>\n",
              "    </tr>\n",
              "    <tr>\n",
              "      <th>296</th>\n",
              "      <td>3</td>\n",
              "      <td>297</td>\n",
              "      <td>30</td>\n",
              "      <td>19</td>\n",
              "      <td>0</td>\n",
              "    </tr>\n",
              "    <tr>\n",
              "      <th>297</th>\n",
              "      <td>3</td>\n",
              "      <td>298</td>\n",
              "      <td>43</td>\n",
              "      <td>23</td>\n",
              "      <td>1</td>\n",
              "    </tr>\n",
              "    <tr>\n",
              "      <th>298</th>\n",
              "      <td>3</td>\n",
              "      <td>299</td>\n",
              "      <td>41</td>\n",
              "      <td>19</td>\n",
              "      <td>0</td>\n",
              "    </tr>\n",
              "    <tr>\n",
              "      <th>299</th>\n",
              "      <td>3</td>\n",
              "      <td>300</td>\n",
              "      <td>25</td>\n",
              "      <td>21</td>\n",
              "      <td>0</td>\n",
              "    </tr>\n",
              "  </tbody>\n",
              "</table>\n",
              "<p>300 rows × 5 columns</p>\n",
              "</div>\n",
              "    <div class=\"colab-df-buttons\">\n",
              "\n",
              "  <div class=\"colab-df-container\">\n",
              "    <button class=\"colab-df-convert\" onclick=\"convertToInteractive('df-cb1a59b7-3ad6-44d4-b711-a626ef3db571')\"\n",
              "            title=\"Convert this dataframe to an interactive table.\"\n",
              "            style=\"display:none;\">\n",
              "\n",
              "  <svg xmlns=\"http://www.w3.org/2000/svg\" height=\"24px\" viewBox=\"0 -960 960 960\">\n",
              "    <path d=\"M120-120v-720h720v720H120Zm60-500h600v-160H180v160Zm220 220h160v-160H400v160Zm0 220h160v-160H400v160ZM180-400h160v-160H180v160Zm440 0h160v-160H620v160ZM180-180h160v-160H180v160Zm440 0h160v-160H620v160Z\"/>\n",
              "  </svg>\n",
              "    </button>\n",
              "\n",
              "  <style>\n",
              "    .colab-df-container {\n",
              "      display:flex;\n",
              "      gap: 12px;\n",
              "    }\n",
              "\n",
              "    .colab-df-convert {\n",
              "      background-color: #E8F0FE;\n",
              "      border: none;\n",
              "      border-radius: 50%;\n",
              "      cursor: pointer;\n",
              "      display: none;\n",
              "      fill: #1967D2;\n",
              "      height: 32px;\n",
              "      padding: 0 0 0 0;\n",
              "      width: 32px;\n",
              "    }\n",
              "\n",
              "    .colab-df-convert:hover {\n",
              "      background-color: #E2EBFA;\n",
              "      box-shadow: 0px 1px 2px rgba(60, 64, 67, 0.3), 0px 1px 3px 1px rgba(60, 64, 67, 0.15);\n",
              "      fill: #174EA6;\n",
              "    }\n",
              "\n",
              "    .colab-df-buttons div {\n",
              "      margin-bottom: 4px;\n",
              "    }\n",
              "\n",
              "    [theme=dark] .colab-df-convert {\n",
              "      background-color: #3B4455;\n",
              "      fill: #D2E3FC;\n",
              "    }\n",
              "\n",
              "    [theme=dark] .colab-df-convert:hover {\n",
              "      background-color: #434B5C;\n",
              "      box-shadow: 0px 1px 3px 1px rgba(0, 0, 0, 0.15);\n",
              "      filter: drop-shadow(0px 1px 2px rgba(0, 0, 0, 0.3));\n",
              "      fill: #FFFFFF;\n",
              "    }\n",
              "  </style>\n",
              "\n",
              "    <script>\n",
              "      const buttonEl =\n",
              "        document.querySelector('#df-cb1a59b7-3ad6-44d4-b711-a626ef3db571 button.colab-df-convert');\n",
              "      buttonEl.style.display =\n",
              "        google.colab.kernel.accessAllowed ? 'block' : 'none';\n",
              "\n",
              "      async function convertToInteractive(key) {\n",
              "        const element = document.querySelector('#df-cb1a59b7-3ad6-44d4-b711-a626ef3db571');\n",
              "        const dataTable =\n",
              "          await google.colab.kernel.invokeFunction('convertToInteractive',\n",
              "                                                    [key], {});\n",
              "        if (!dataTable) return;\n",
              "\n",
              "        const docLinkHtml = 'Like what you see? Visit the ' +\n",
              "          '<a target=\"_blank\" href=https://colab.research.google.com/notebooks/data_table.ipynb>data table notebook</a>'\n",
              "          + ' to learn more about interactive tables.';\n",
              "        element.innerHTML = '';\n",
              "        dataTable['output_type'] = 'display_data';\n",
              "        await google.colab.output.renderOutput(dataTable, element);\n",
              "        const docLink = document.createElement('div');\n",
              "        docLink.innerHTML = docLinkHtml;\n",
              "        element.appendChild(docLink);\n",
              "      }\n",
              "    </script>\n",
              "  </div>\n",
              "\n",
              "\n",
              "<div id=\"df-03c6fedc-aba3-4ab0-bb2a-b20e110af1db\">\n",
              "  <button class=\"colab-df-quickchart\" onclick=\"quickchart('df-03c6fedc-aba3-4ab0-bb2a-b20e110af1db')\"\n",
              "            title=\"Suggest charts\"\n",
              "            style=\"display:none;\">\n",
              "\n",
              "<svg xmlns=\"http://www.w3.org/2000/svg\" height=\"24px\"viewBox=\"0 0 24 24\"\n",
              "     width=\"24px\">\n",
              "    <g>\n",
              "        <path d=\"M19 3H5c-1.1 0-2 .9-2 2v14c0 1.1.9 2 2 2h14c1.1 0 2-.9 2-2V5c0-1.1-.9-2-2-2zM9 17H7v-7h2v7zm4 0h-2V7h2v10zm4 0h-2v-4h2v4z\"/>\n",
              "    </g>\n",
              "</svg>\n",
              "  </button>\n",
              "\n",
              "<style>\n",
              "  .colab-df-quickchart {\n",
              "      --bg-color: #E8F0FE;\n",
              "      --fill-color: #1967D2;\n",
              "      --hover-bg-color: #E2EBFA;\n",
              "      --hover-fill-color: #174EA6;\n",
              "      --disabled-fill-color: #AAA;\n",
              "      --disabled-bg-color: #DDD;\n",
              "  }\n",
              "\n",
              "  [theme=dark] .colab-df-quickchart {\n",
              "      --bg-color: #3B4455;\n",
              "      --fill-color: #D2E3FC;\n",
              "      --hover-bg-color: #434B5C;\n",
              "      --hover-fill-color: #FFFFFF;\n",
              "      --disabled-bg-color: #3B4455;\n",
              "      --disabled-fill-color: #666;\n",
              "  }\n",
              "\n",
              "  .colab-df-quickchart {\n",
              "    background-color: var(--bg-color);\n",
              "    border: none;\n",
              "    border-radius: 50%;\n",
              "    cursor: pointer;\n",
              "    display: none;\n",
              "    fill: var(--fill-color);\n",
              "    height: 32px;\n",
              "    padding: 0;\n",
              "    width: 32px;\n",
              "  }\n",
              "\n",
              "  .colab-df-quickchart:hover {\n",
              "    background-color: var(--hover-bg-color);\n",
              "    box-shadow: 0 1px 2px rgba(60, 64, 67, 0.3), 0 1px 3px 1px rgba(60, 64, 67, 0.15);\n",
              "    fill: var(--button-hover-fill-color);\n",
              "  }\n",
              "\n",
              "  .colab-df-quickchart-complete:disabled,\n",
              "  .colab-df-quickchart-complete:disabled:hover {\n",
              "    background-color: var(--disabled-bg-color);\n",
              "    fill: var(--disabled-fill-color);\n",
              "    box-shadow: none;\n",
              "  }\n",
              "\n",
              "  .colab-df-spinner {\n",
              "    border: 2px solid var(--fill-color);\n",
              "    border-color: transparent;\n",
              "    border-bottom-color: var(--fill-color);\n",
              "    animation:\n",
              "      spin 1s steps(1) infinite;\n",
              "  }\n",
              "\n",
              "  @keyframes spin {\n",
              "    0% {\n",
              "      border-color: transparent;\n",
              "      border-bottom-color: var(--fill-color);\n",
              "      border-left-color: var(--fill-color);\n",
              "    }\n",
              "    20% {\n",
              "      border-color: transparent;\n",
              "      border-left-color: var(--fill-color);\n",
              "      border-top-color: var(--fill-color);\n",
              "    }\n",
              "    30% {\n",
              "      border-color: transparent;\n",
              "      border-left-color: var(--fill-color);\n",
              "      border-top-color: var(--fill-color);\n",
              "      border-right-color: var(--fill-color);\n",
              "    }\n",
              "    40% {\n",
              "      border-color: transparent;\n",
              "      border-right-color: var(--fill-color);\n",
              "      border-top-color: var(--fill-color);\n",
              "    }\n",
              "    60% {\n",
              "      border-color: transparent;\n",
              "      border-right-color: var(--fill-color);\n",
              "    }\n",
              "    80% {\n",
              "      border-color: transparent;\n",
              "      border-right-color: var(--fill-color);\n",
              "      border-bottom-color: var(--fill-color);\n",
              "    }\n",
              "    90% {\n",
              "      border-color: transparent;\n",
              "      border-bottom-color: var(--fill-color);\n",
              "    }\n",
              "  }\n",
              "</style>\n",
              "\n",
              "  <script>\n",
              "    async function quickchart(key) {\n",
              "      const quickchartButtonEl =\n",
              "        document.querySelector('#' + key + ' button');\n",
              "      quickchartButtonEl.disabled = true;  // To prevent multiple clicks.\n",
              "      quickchartButtonEl.classList.add('colab-df-spinner');\n",
              "      try {\n",
              "        const charts = await google.colab.kernel.invokeFunction(\n",
              "            'suggestCharts', [key], {});\n",
              "      } catch (error) {\n",
              "        console.error('Error during call to suggestCharts:', error);\n",
              "      }\n",
              "      quickchartButtonEl.classList.remove('colab-df-spinner');\n",
              "      quickchartButtonEl.classList.add('colab-df-quickchart-complete');\n",
              "    }\n",
              "    (() => {\n",
              "      let quickchartButtonEl =\n",
              "        document.querySelector('#df-03c6fedc-aba3-4ab0-bb2a-b20e110af1db button');\n",
              "      quickchartButtonEl.style.display =\n",
              "        google.colab.kernel.accessAllowed ? 'block' : 'none';\n",
              "    })();\n",
              "  </script>\n",
              "</div>\n",
              "\n",
              "  <div id=\"id_7df4826b-a63c-47cf-82e8-1e2a98f7c111\">\n",
              "    <style>\n",
              "      .colab-df-generate {\n",
              "        background-color: #E8F0FE;\n",
              "        border: none;\n",
              "        border-radius: 50%;\n",
              "        cursor: pointer;\n",
              "        display: none;\n",
              "        fill: #1967D2;\n",
              "        height: 32px;\n",
              "        padding: 0 0 0 0;\n",
              "        width: 32px;\n",
              "      }\n",
              "\n",
              "      .colab-df-generate:hover {\n",
              "        background-color: #E2EBFA;\n",
              "        box-shadow: 0px 1px 2px rgba(60, 64, 67, 0.3), 0px 1px 3px 1px rgba(60, 64, 67, 0.15);\n",
              "        fill: #174EA6;\n",
              "      }\n",
              "\n",
              "      [theme=dark] .colab-df-generate {\n",
              "        background-color: #3B4455;\n",
              "        fill: #D2E3FC;\n",
              "      }\n",
              "\n",
              "      [theme=dark] .colab-df-generate:hover {\n",
              "        background-color: #434B5C;\n",
              "        box-shadow: 0px 1px 3px 1px rgba(0, 0, 0, 0.15);\n",
              "        filter: drop-shadow(0px 1px 2px rgba(0, 0, 0, 0.3));\n",
              "        fill: #FFFFFF;\n",
              "      }\n",
              "    </style>\n",
              "    <button class=\"colab-df-generate\" onclick=\"generateWithVariable('cosmeticos_df')\"\n",
              "            title=\"Generate code using this dataframe.\"\n",
              "            style=\"display:none;\">\n",
              "\n",
              "  <svg xmlns=\"http://www.w3.org/2000/svg\" height=\"24px\"viewBox=\"0 0 24 24\"\n",
              "       width=\"24px\">\n",
              "    <path d=\"M7,19H8.4L18.45,9,17,7.55,7,17.6ZM5,21V16.75L18.45,3.32a2,2,0,0,1,2.83,0l1.4,1.43a1.91,1.91,0,0,1,.58,1.4,1.91,1.91,0,0,1-.58,1.4L9.25,21ZM18.45,9,17,7.55Zm-12,3A5.31,5.31,0,0,0,4.9,8.1,5.31,5.31,0,0,0,1,6.5,5.31,5.31,0,0,0,4.9,4.9,5.31,5.31,0,0,0,6.5,1,5.31,5.31,0,0,0,8.1,4.9,5.31,5.31,0,0,0,12,6.5,5.46,5.46,0,0,0,6.5,12Z\"/>\n",
              "  </svg>\n",
              "    </button>\n",
              "    <script>\n",
              "      (() => {\n",
              "      const buttonEl =\n",
              "        document.querySelector('#id_7df4826b-a63c-47cf-82e8-1e2a98f7c111 button.colab-df-generate');\n",
              "      buttonEl.style.display =\n",
              "        google.colab.kernel.accessAllowed ? 'block' : 'none';\n",
              "\n",
              "      buttonEl.onclick = () => {\n",
              "        google.colab.notebook.generateWithVariable('cosmeticos_df');\n",
              "      }\n",
              "      })();\n",
              "    </script>\n",
              "  </div>\n",
              "\n",
              "    </div>\n",
              "  </div>\n"
            ],
            "application/vnd.google.colaboratory.intrinsic+json": {
              "type": "dataframe",
              "variable_name": "cosmeticos_df",
              "summary": "{\n  \"name\": \"cosmeticos_df\",\n  \"rows\": 300,\n  \"fields\": [\n    {\n      \"column\": \"id_produto\",\n      \"properties\": {\n        \"dtype\": \"number\",\n        \"std\": 0,\n        \"min\": 1,\n        \"max\": 3,\n        \"num_unique_values\": 3,\n        \"samples\": [\n          1,\n          2,\n          3\n        ],\n        \"semantic_type\": \"\",\n        \"description\": \"\"\n      }\n    },\n    {\n      \"column\": \"id_volunt\\u00e1ria\",\n      \"properties\": {\n        \"dtype\": \"number\",\n        \"std\": 86,\n        \"min\": 1,\n        \"max\": 300,\n        \"num_unique_values\": 300,\n        \"samples\": [\n          204,\n          267,\n          153\n        ],\n        \"semantic_type\": \"\",\n        \"description\": \"\"\n      }\n    },\n    {\n      \"column\": \"durabilidade\",\n      \"properties\": {\n        \"dtype\": \"number\",\n        \"std\": 10,\n        \"min\": 5,\n        \"max\": 48,\n        \"num_unique_values\": 39,\n        \"samples\": [\n          44,\n          27,\n          17\n        ],\n        \"semantic_type\": \"\",\n        \"description\": \"\"\n      }\n    },\n    {\n      \"column\": \"idade\",\n      \"properties\": {\n        \"dtype\": \"number\",\n        \"std\": 12,\n        \"min\": 18,\n        \"max\": 60,\n        \"num_unique_values\": 43,\n        \"samples\": [\n          59,\n          48,\n          41\n        ],\n        \"semantic_type\": \"\",\n        \"description\": \"\"\n      }\n    },\n    {\n      \"column\": \"exposicao_sol\",\n      \"properties\": {\n        \"dtype\": \"number\",\n        \"std\": 0,\n        \"min\": 0,\n        \"max\": 1,\n        \"num_unique_values\": 2,\n        \"samples\": [\n          0,\n          1\n        ],\n        \"semantic_type\": \"\",\n        \"description\": \"\"\n      }\n    }\n  ]\n}"
            }
          },
          "metadata": {}
        }
      ]
    },
    {
      "cell_type": "markdown",
      "source": [
        "#Análise exploratória"
      ],
      "metadata": {
        "id": "cl_4QwASpY1K"
      }
    },
    {
      "cell_type": "code",
      "source": [
        "cosmeticos_df.info()"
      ],
      "metadata": {
        "id": "3E41zufGrQB6",
        "colab": {
          "base_uri": "https://localhost:8080/"
        },
        "outputId": "8c3fb3c6-990d-445b-bcaa-fbebeddab5d4"
      },
      "execution_count": null,
      "outputs": [
        {
          "output_type": "stream",
          "name": "stdout",
          "text": [
            "<class 'pandas.core.frame.DataFrame'>\n",
            "RangeIndex: 300 entries, 0 to 299\n",
            "Data columns (total 5 columns):\n",
            " #   Column         Non-Null Count  Dtype\n",
            "---  ------         --------------  -----\n",
            " 0   id_produto     300 non-null    int64\n",
            " 1   id_voluntária  300 non-null    int64\n",
            " 2   durabilidade   300 non-null    int64\n",
            " 3   idade          300 non-null    int64\n",
            " 4   exposicao_sol  300 non-null    int64\n",
            "dtypes: int64(5)\n",
            "memory usage: 11.8 KB\n"
          ]
        }
      ]
    },
    {
      "cell_type": "code",
      "source": [
        "cosmeticos_df.describe().T"
      ],
      "metadata": {
        "id": "i3pqx56UpL7b",
        "colab": {
          "base_uri": "https://localhost:8080/",
          "height": 206
        },
        "outputId": "34a68828-0744-4d03-dbff-4e55b4239db0"
      },
      "execution_count": null,
      "outputs": [
        {
          "output_type": "execute_result",
          "data": {
            "text/plain": [
              "               count        mean        std   min    25%    50%     75%    max\n",
              "id_produto     300.0    2.000000   0.817861   1.0   1.00    2.0    3.00    3.0\n",
              "id_voluntária  300.0  150.500000  86.746758   1.0  75.75  150.5  225.25  300.0\n",
              "durabilidade   300.0   17.133333  10.942945   5.0   9.00   14.0   20.00   48.0\n",
              "idade          300.0   36.886667  12.625841  18.0  26.00   36.0   48.00   60.0\n",
              "exposicao_sol  300.0    0.440000   0.497216   0.0   0.00    0.0    1.00    1.0"
            ],
            "text/html": [
              "\n",
              "  <div id=\"df-2b7a24d0-4d67-4d78-a545-9485e7c58b65\" class=\"colab-df-container\">\n",
              "    <div>\n",
              "<style scoped>\n",
              "    .dataframe tbody tr th:only-of-type {\n",
              "        vertical-align: middle;\n",
              "    }\n",
              "\n",
              "    .dataframe tbody tr th {\n",
              "        vertical-align: top;\n",
              "    }\n",
              "\n",
              "    .dataframe thead th {\n",
              "        text-align: right;\n",
              "    }\n",
              "</style>\n",
              "<table border=\"1\" class=\"dataframe\">\n",
              "  <thead>\n",
              "    <tr style=\"text-align: right;\">\n",
              "      <th></th>\n",
              "      <th>count</th>\n",
              "      <th>mean</th>\n",
              "      <th>std</th>\n",
              "      <th>min</th>\n",
              "      <th>25%</th>\n",
              "      <th>50%</th>\n",
              "      <th>75%</th>\n",
              "      <th>max</th>\n",
              "    </tr>\n",
              "  </thead>\n",
              "  <tbody>\n",
              "    <tr>\n",
              "      <th>id_produto</th>\n",
              "      <td>300.0</td>\n",
              "      <td>2.000000</td>\n",
              "      <td>0.817861</td>\n",
              "      <td>1.0</td>\n",
              "      <td>1.00</td>\n",
              "      <td>2.0</td>\n",
              "      <td>3.00</td>\n",
              "      <td>3.0</td>\n",
              "    </tr>\n",
              "    <tr>\n",
              "      <th>id_voluntária</th>\n",
              "      <td>300.0</td>\n",
              "      <td>150.500000</td>\n",
              "      <td>86.746758</td>\n",
              "      <td>1.0</td>\n",
              "      <td>75.75</td>\n",
              "      <td>150.5</td>\n",
              "      <td>225.25</td>\n",
              "      <td>300.0</td>\n",
              "    </tr>\n",
              "    <tr>\n",
              "      <th>durabilidade</th>\n",
              "      <td>300.0</td>\n",
              "      <td>17.133333</td>\n",
              "      <td>10.942945</td>\n",
              "      <td>5.0</td>\n",
              "      <td>9.00</td>\n",
              "      <td>14.0</td>\n",
              "      <td>20.00</td>\n",
              "      <td>48.0</td>\n",
              "    </tr>\n",
              "    <tr>\n",
              "      <th>idade</th>\n",
              "      <td>300.0</td>\n",
              "      <td>36.886667</td>\n",
              "      <td>12.625841</td>\n",
              "      <td>18.0</td>\n",
              "      <td>26.00</td>\n",
              "      <td>36.0</td>\n",
              "      <td>48.00</td>\n",
              "      <td>60.0</td>\n",
              "    </tr>\n",
              "    <tr>\n",
              "      <th>exposicao_sol</th>\n",
              "      <td>300.0</td>\n",
              "      <td>0.440000</td>\n",
              "      <td>0.497216</td>\n",
              "      <td>0.0</td>\n",
              "      <td>0.00</td>\n",
              "      <td>0.0</td>\n",
              "      <td>1.00</td>\n",
              "      <td>1.0</td>\n",
              "    </tr>\n",
              "  </tbody>\n",
              "</table>\n",
              "</div>\n",
              "    <div class=\"colab-df-buttons\">\n",
              "\n",
              "  <div class=\"colab-df-container\">\n",
              "    <button class=\"colab-df-convert\" onclick=\"convertToInteractive('df-2b7a24d0-4d67-4d78-a545-9485e7c58b65')\"\n",
              "            title=\"Convert this dataframe to an interactive table.\"\n",
              "            style=\"display:none;\">\n",
              "\n",
              "  <svg xmlns=\"http://www.w3.org/2000/svg\" height=\"24px\" viewBox=\"0 -960 960 960\">\n",
              "    <path d=\"M120-120v-720h720v720H120Zm60-500h600v-160H180v160Zm220 220h160v-160H400v160Zm0 220h160v-160H400v160ZM180-400h160v-160H180v160Zm440 0h160v-160H620v160ZM180-180h160v-160H180v160Zm440 0h160v-160H620v160Z\"/>\n",
              "  </svg>\n",
              "    </button>\n",
              "\n",
              "  <style>\n",
              "    .colab-df-container {\n",
              "      display:flex;\n",
              "      gap: 12px;\n",
              "    }\n",
              "\n",
              "    .colab-df-convert {\n",
              "      background-color: #E8F0FE;\n",
              "      border: none;\n",
              "      border-radius: 50%;\n",
              "      cursor: pointer;\n",
              "      display: none;\n",
              "      fill: #1967D2;\n",
              "      height: 32px;\n",
              "      padding: 0 0 0 0;\n",
              "      width: 32px;\n",
              "    }\n",
              "\n",
              "    .colab-df-convert:hover {\n",
              "      background-color: #E2EBFA;\n",
              "      box-shadow: 0px 1px 2px rgba(60, 64, 67, 0.3), 0px 1px 3px 1px rgba(60, 64, 67, 0.15);\n",
              "      fill: #174EA6;\n",
              "    }\n",
              "\n",
              "    .colab-df-buttons div {\n",
              "      margin-bottom: 4px;\n",
              "    }\n",
              "\n",
              "    [theme=dark] .colab-df-convert {\n",
              "      background-color: #3B4455;\n",
              "      fill: #D2E3FC;\n",
              "    }\n",
              "\n",
              "    [theme=dark] .colab-df-convert:hover {\n",
              "      background-color: #434B5C;\n",
              "      box-shadow: 0px 1px 3px 1px rgba(0, 0, 0, 0.15);\n",
              "      filter: drop-shadow(0px 1px 2px rgba(0, 0, 0, 0.3));\n",
              "      fill: #FFFFFF;\n",
              "    }\n",
              "  </style>\n",
              "\n",
              "    <script>\n",
              "      const buttonEl =\n",
              "        document.querySelector('#df-2b7a24d0-4d67-4d78-a545-9485e7c58b65 button.colab-df-convert');\n",
              "      buttonEl.style.display =\n",
              "        google.colab.kernel.accessAllowed ? 'block' : 'none';\n",
              "\n",
              "      async function convertToInteractive(key) {\n",
              "        const element = document.querySelector('#df-2b7a24d0-4d67-4d78-a545-9485e7c58b65');\n",
              "        const dataTable =\n",
              "          await google.colab.kernel.invokeFunction('convertToInteractive',\n",
              "                                                    [key], {});\n",
              "        if (!dataTable) return;\n",
              "\n",
              "        const docLinkHtml = 'Like what you see? Visit the ' +\n",
              "          '<a target=\"_blank\" href=https://colab.research.google.com/notebooks/data_table.ipynb>data table notebook</a>'\n",
              "          + ' to learn more about interactive tables.';\n",
              "        element.innerHTML = '';\n",
              "        dataTable['output_type'] = 'display_data';\n",
              "        await google.colab.output.renderOutput(dataTable, element);\n",
              "        const docLink = document.createElement('div');\n",
              "        docLink.innerHTML = docLinkHtml;\n",
              "        element.appendChild(docLink);\n",
              "      }\n",
              "    </script>\n",
              "  </div>\n",
              "\n",
              "\n",
              "<div id=\"df-0e94ecfb-733d-40db-91b1-5084ef5f272c\">\n",
              "  <button class=\"colab-df-quickchart\" onclick=\"quickchart('df-0e94ecfb-733d-40db-91b1-5084ef5f272c')\"\n",
              "            title=\"Suggest charts\"\n",
              "            style=\"display:none;\">\n",
              "\n",
              "<svg xmlns=\"http://www.w3.org/2000/svg\" height=\"24px\"viewBox=\"0 0 24 24\"\n",
              "     width=\"24px\">\n",
              "    <g>\n",
              "        <path d=\"M19 3H5c-1.1 0-2 .9-2 2v14c0 1.1.9 2 2 2h14c1.1 0 2-.9 2-2V5c0-1.1-.9-2-2-2zM9 17H7v-7h2v7zm4 0h-2V7h2v10zm4 0h-2v-4h2v4z\"/>\n",
              "    </g>\n",
              "</svg>\n",
              "  </button>\n",
              "\n",
              "<style>\n",
              "  .colab-df-quickchart {\n",
              "      --bg-color: #E8F0FE;\n",
              "      --fill-color: #1967D2;\n",
              "      --hover-bg-color: #E2EBFA;\n",
              "      --hover-fill-color: #174EA6;\n",
              "      --disabled-fill-color: #AAA;\n",
              "      --disabled-bg-color: #DDD;\n",
              "  }\n",
              "\n",
              "  [theme=dark] .colab-df-quickchart {\n",
              "      --bg-color: #3B4455;\n",
              "      --fill-color: #D2E3FC;\n",
              "      --hover-bg-color: #434B5C;\n",
              "      --hover-fill-color: #FFFFFF;\n",
              "      --disabled-bg-color: #3B4455;\n",
              "      --disabled-fill-color: #666;\n",
              "  }\n",
              "\n",
              "  .colab-df-quickchart {\n",
              "    background-color: var(--bg-color);\n",
              "    border: none;\n",
              "    border-radius: 50%;\n",
              "    cursor: pointer;\n",
              "    display: none;\n",
              "    fill: var(--fill-color);\n",
              "    height: 32px;\n",
              "    padding: 0;\n",
              "    width: 32px;\n",
              "  }\n",
              "\n",
              "  .colab-df-quickchart:hover {\n",
              "    background-color: var(--hover-bg-color);\n",
              "    box-shadow: 0 1px 2px rgba(60, 64, 67, 0.3), 0 1px 3px 1px rgba(60, 64, 67, 0.15);\n",
              "    fill: var(--button-hover-fill-color);\n",
              "  }\n",
              "\n",
              "  .colab-df-quickchart-complete:disabled,\n",
              "  .colab-df-quickchart-complete:disabled:hover {\n",
              "    background-color: var(--disabled-bg-color);\n",
              "    fill: var(--disabled-fill-color);\n",
              "    box-shadow: none;\n",
              "  }\n",
              "\n",
              "  .colab-df-spinner {\n",
              "    border: 2px solid var(--fill-color);\n",
              "    border-color: transparent;\n",
              "    border-bottom-color: var(--fill-color);\n",
              "    animation:\n",
              "      spin 1s steps(1) infinite;\n",
              "  }\n",
              "\n",
              "  @keyframes spin {\n",
              "    0% {\n",
              "      border-color: transparent;\n",
              "      border-bottom-color: var(--fill-color);\n",
              "      border-left-color: var(--fill-color);\n",
              "    }\n",
              "    20% {\n",
              "      border-color: transparent;\n",
              "      border-left-color: var(--fill-color);\n",
              "      border-top-color: var(--fill-color);\n",
              "    }\n",
              "    30% {\n",
              "      border-color: transparent;\n",
              "      border-left-color: var(--fill-color);\n",
              "      border-top-color: var(--fill-color);\n",
              "      border-right-color: var(--fill-color);\n",
              "    }\n",
              "    40% {\n",
              "      border-color: transparent;\n",
              "      border-right-color: var(--fill-color);\n",
              "      border-top-color: var(--fill-color);\n",
              "    }\n",
              "    60% {\n",
              "      border-color: transparent;\n",
              "      border-right-color: var(--fill-color);\n",
              "    }\n",
              "    80% {\n",
              "      border-color: transparent;\n",
              "      border-right-color: var(--fill-color);\n",
              "      border-bottom-color: var(--fill-color);\n",
              "    }\n",
              "    90% {\n",
              "      border-color: transparent;\n",
              "      border-bottom-color: var(--fill-color);\n",
              "    }\n",
              "  }\n",
              "</style>\n",
              "\n",
              "  <script>\n",
              "    async function quickchart(key) {\n",
              "      const quickchartButtonEl =\n",
              "        document.querySelector('#' + key + ' button');\n",
              "      quickchartButtonEl.disabled = true;  // To prevent multiple clicks.\n",
              "      quickchartButtonEl.classList.add('colab-df-spinner');\n",
              "      try {\n",
              "        const charts = await google.colab.kernel.invokeFunction(\n",
              "            'suggestCharts', [key], {});\n",
              "      } catch (error) {\n",
              "        console.error('Error during call to suggestCharts:', error);\n",
              "      }\n",
              "      quickchartButtonEl.classList.remove('colab-df-spinner');\n",
              "      quickchartButtonEl.classList.add('colab-df-quickchart-complete');\n",
              "    }\n",
              "    (() => {\n",
              "      let quickchartButtonEl =\n",
              "        document.querySelector('#df-0e94ecfb-733d-40db-91b1-5084ef5f272c button');\n",
              "      quickchartButtonEl.style.display =\n",
              "        google.colab.kernel.accessAllowed ? 'block' : 'none';\n",
              "    })();\n",
              "  </script>\n",
              "</div>\n",
              "\n",
              "    </div>\n",
              "  </div>\n"
            ],
            "application/vnd.google.colaboratory.intrinsic+json": {
              "type": "dataframe",
              "summary": "{\n  \"name\": \"cosmeticos_df\",\n  \"rows\": 5,\n  \"fields\": [\n    {\n      \"column\": \"count\",\n      \"properties\": {\n        \"dtype\": \"number\",\n        \"std\": 0.0,\n        \"min\": 300.0,\n        \"max\": 300.0,\n        \"num_unique_values\": 1,\n        \"samples\": [\n          300.0\n        ],\n        \"semantic_type\": \"\",\n        \"description\": \"\"\n      }\n    },\n    {\n      \"column\": \"mean\",\n      \"properties\": {\n        \"dtype\": \"number\",\n        \"std\": 62.7338277345024,\n        \"min\": 0.44,\n        \"max\": 150.5,\n        \"num_unique_values\": 5,\n        \"samples\": [\n          150.5\n        ],\n        \"semantic_type\": \"\",\n        \"description\": \"\"\n      }\n    },\n    {\n      \"column\": \"std\",\n      \"properties\": {\n        \"dtype\": \"number\",\n        \"std\": 36.444467729672084,\n        \"min\": 0.4972163314570013,\n        \"max\": 86.74675786448736,\n        \"num_unique_values\": 5,\n        \"samples\": [\n          86.74675786448736\n        ],\n        \"semantic_type\": \"\",\n        \"description\": \"\"\n      }\n    },\n    {\n      \"column\": \"min\",\n      \"properties\": {\n        \"dtype\": \"number\",\n        \"std\": 7.516648189186454,\n        \"min\": 0.0,\n        \"max\": 18.0,\n        \"num_unique_values\": 4,\n        \"samples\": [\n          5.0\n        ],\n        \"semantic_type\": \"\",\n        \"description\": \"\"\n      }\n    },\n    {\n      \"column\": \"25%\",\n      \"properties\": {\n        \"dtype\": \"number\",\n        \"std\": 31.616649095057497,\n        \"min\": 0.0,\n        \"max\": 75.75,\n        \"num_unique_values\": 5,\n        \"samples\": [\n          75.75\n        ],\n        \"semantic_type\": \"\",\n        \"description\": \"\"\n      }\n    },\n    {\n      \"column\": \"50%\",\n      \"properties\": {\n        \"dtype\": \"number\",\n        \"std\": 63.136756330999454,\n        \"min\": 0.0,\n        \"max\": 150.5,\n        \"num_unique_values\": 5,\n        \"samples\": [\n          150.5\n        ],\n        \"semantic_type\": \"\",\n        \"description\": \"\"\n      }\n    },\n    {\n      \"column\": \"75%\",\n      \"properties\": {\n        \"dtype\": \"number\",\n        \"std\": 94.57807621219624,\n        \"min\": 1.0,\n        \"max\": 225.25,\n        \"num_unique_values\": 5,\n        \"samples\": [\n          225.25\n        ],\n        \"semantic_type\": \"\",\n        \"description\": \"\"\n      }\n    },\n    {\n      \"column\": \"max\",\n      \"properties\": {\n        \"dtype\": \"number\",\n        \"std\": 124.46405103482692,\n        \"min\": 1.0,\n        \"max\": 300.0,\n        \"num_unique_values\": 5,\n        \"samples\": [\n          300.0\n        ],\n        \"semantic_type\": \"\",\n        \"description\": \"\"\n      }\n    }\n  ]\n}"
            }
          },
          "metadata": {},
          "execution_count": 45
        }
      ]
    },
    {
      "cell_type": "code",
      "source": [
        "# Calculando a amplitude e a variância\n",
        "cosmeticos_desc = cosmeticos_df.describe().T\n",
        "cosmeticos_desc['amplitude'] = cosmeticos_desc['max'] - cosmeticos_desc['min']\n",
        "cosmeticos_desc['variância'] = cosmeticos_df.var()\n",
        "\n",
        "print(cosmeticos_desc[['mean', 'std', 'min', 'max', 'amplitude', 'variância']])\n"
      ],
      "metadata": {
        "id": "douQB71xrac2",
        "colab": {
          "base_uri": "https://localhost:8080/"
        },
        "outputId": "bdd0da32-d583-48ab-f2bc-aa506b984d23"
      },
      "execution_count": null,
      "outputs": [
        {
          "output_type": "stream",
          "name": "stdout",
          "text": [
            "                     mean        std   min    max  amplitude    variância\n",
            "id_produto       2.000000   0.817861   1.0    3.0        2.0     0.668896\n",
            "id_voluntária  150.500000  86.746758   1.0  300.0      299.0  7525.000000\n",
            "durabilidade    17.133333  10.942945   5.0   48.0       43.0   119.748049\n",
            "idade           36.886667  12.625841  18.0   60.0       42.0   159.411862\n",
            "exposicao_sol    0.440000   0.497216   0.0    1.0        1.0     0.247224\n"
          ]
        }
      ]
    },
    {
      "cell_type": "markdown",
      "source": [
        "No dados acima, consiguimos ver que a idade maxima das nossas volutárias é de 60 anos e a minima é de 18 anos, com media de 36 anos. com desvio padrão de 12, 62, ou seja"
      ],
      "metadata": {
        "id": "ShZ__31n9p42"
      }
    },
    {
      "cell_type": "markdown",
      "source": [
        "Durabilidade: A durabilidade média é de aproximadamente 17h, variando de 5 a 48 horas. Existe uma grande dispersão nos dados, com alguns produtos apresentando durabilidades muito superiores ou inferiores à média.\n",
        "\n",
        "Idade: A idade média das voluntárias é de aproximadamente 37 anos, variando de 18 a 60 anos. Há uma distribuição relativamente uniforme das idades na amostra.\n",
        "\n",
        "Exposição ao Sol: A exposição média ao sol é de 0,44. A maioria das voluntárias foi exposta ao sol, conforme indicado pela contagem.\n",
        "\n",
        "id_produto e id_voluntária: Ambas as variáveis têm distribuições uniformes, com cada valor aparecendo aproximadamente o mesmo número de vezes."
      ],
      "metadata": {
        "id": "5NkJBPi2Jexi"
      }
    },
    {
      "cell_type": "markdown",
      "source": [
        "1. Distribuição das **Variáveis**\n",
        "\n",
        "Histogramas para visualizar a distribuição das variáveis contínuas: durabilidade, idade e exposicao_sol.\n",
        "\n",
        "\n"
      ],
      "metadata": {
        "id": "rpqgBW5yCZ_Y"
      }
    },
    {
      "cell_type": "code",
      "source": [
        "import seaborn as sns\n",
        "\n",
        "# Histogramas das variáveis contínuas\n",
        "plt.figure(figsize=(15, 5))\n",
        "\n",
        "plt.subplot(1, 3, 1)\n",
        "sns.histplot(cosmeticos_df['durabilidade'], kde=True)\n",
        "plt.title('Distribuição de Durabilidade')\n",
        "\n",
        "plt.subplot(1, 3, 2)\n",
        "sns.histplot(cosmeticos_df['idade'], kde=True)\n",
        "plt.title('Distribuição de Idade')\n",
        "\n",
        "plt.subplot(1, 3, 3)\n",
        "sns.countplot(data=cosmeticos_df, x='exposicao_sol')\n",
        "plt.title('Contagem de Exposição ao Sol')\n",
        "\n",
        "\n",
        "plt.tight_layout()\n",
        "plt.show()\n"
      ],
      "metadata": {
        "id": "-eNNZPNDCbc4",
        "colab": {
          "base_uri": "https://localhost:8080/",
          "height": 376
        },
        "outputId": "0611abfa-4c95-4d37-d178-24d7206d35f8"
      },
      "execution_count": null,
      "outputs": [
        {
          "output_type": "display_data",
          "data": {
            "text/plain": [
              "<Figure size 1500x500 with 3 Axes>"
            ],
            "image/png": "[encoded data removed]"
          },
          "metadata": {}
        }
      ]
    },
    {
      "cell_type": "markdown",
      "source": [
        "\n",
        "\n",
        "# Teste de Hipóteses"
      ],
      "metadata": {
        "id": "MsJmr64nFTII"
      }
    },
    {
      "cell_type": "markdown",
      "source": [
        "## 1 - Existe diferenca estatisticamente significativa na durabilidade dos batons com formulas diferentes?"
      ],
      "metadata": {
        "id": "cKcYyRTrAdH6"
      }
    },
    {
      "cell_type": "markdown",
      "source": [
        " Médias de durabilidade para cada fórmula de batons e identificar qual delas tem a maior média."
      ],
      "metadata": {
        "id": "RIu8GJKH_pwG"
      }
    },
    {
      "cell_type": "code",
      "source": [
        "\n",
        "# com as colunas 'id_produto' e 'durabilidade'\n",
        "\n",
        "# Calculando a média de durabilidade para cada fórmula\n",
        "media_formula_1 = cosmeticos_df[cosmeticos_df['id_produto'] == 1]['durabilidade'].mean()\n",
        "media_formula_2 = cosmeticos_df[cosmeticos_df['id_produto'] == 2]['durabilidade'].mean()\n",
        "media_formula_3 = cosmeticos_df[cosmeticos_df['id_produto'] == 3]['durabilidade'].mean()\n",
        "\n",
        "# Imprimindo as médias\n",
        "print(f'Média de durabilidade da Fórmula 1: {media_formula_1}')\n",
        "print(f'Média de durabilidade da Fórmula 2: {media_formula_2}')\n",
        "print(f'Média de durabilidade da Fórmula 3: {media_formula_3}')\n"
      ],
      "metadata": {
        "id": "MYwF4gN0_klU",
        "colab": {
          "base_uri": "https://localhost:8080/"
        },
        "outputId": "d29e7c1d-82f0-4723-fac2-df441f944318"
      },
      "execution_count": null,
      "outputs": [
        {
          "output_type": "stream",
          "name": "stdout",
          "text": [
            "Média de durabilidade da Fórmula 1: 15.11\n",
            "Média de durabilidade da Fórmula 2: 7.77\n",
            "Média de durabilidade da Fórmula 3: 28.52\n"
          ]
        }
      ]
    },
    {
      "cell_type": "markdown",
      "source": [
        "## Análise da Média\n",
        "\n",
        "Com base nas médias de durabilidade calculadas:\n",
        "\n",
        "Fórmula 1: 15.11 horas\n",
        "Fórmula 2: 7.77 horas\n",
        "Fórmula 3: 28.52 horas\n",
        "\n",
        "**Análise:**\n",
        "Fórmula 3 claramente se destaca com a maior durabilidade, quase o dobro da durabilidade da Fórmula 1. Fórmula 1 também apresenta uma durabilidade razoável, sendo a segunda melhor opção entre as fórmulas testadas. Fórmula 2 tem a menor durabilidade, indicando que pode não ser a melhor opção em termos de longevidade do produto.\n",
        "\n",
        "Conclusão: **negrito**\n",
        "Se a durabilidade é um fator crítico na escolha do batom, Fórmula 3 seria a escolha mais adequada devido à sua durabilidade significativamente maior. Fórmula 1 seria uma alternativa razoável se a Fórmula 3 não estiver disponível ou se outros fatores forem considerados importantes. Por outro lado, Fórmula 2 seria a menos recomendada em termos de durabilidade com base nos dados fornecidos."
      ],
      "metadata": {
        "id": "XT0DZpEfBM_l"
      }
    },
    {
      "cell_type": "markdown",
      "source": [
        "Escolhi o teste ANOVA pois é  utilizado para verificar se existem diferenças estatisticamente significativas entre as médias de três ou mais grupos\n"
      ],
      "metadata": {
        "id": "ATc5GB8M53GS"
      }
    },
    {
      "cell_type": "code",
      "source": [
        "import scipy.stats as stats"
      ],
      "metadata": {
        "id": "LQ4L-Q17CkmF"
      },
      "execution_count": null,
      "outputs": []
    },
    {
      "cell_type": "code",
      "source": [
        "# Realizar o teste de ANOVA\n",
        "f_stat, p_value = stats.f_oneway(\n",
        "    cosmeticos_df[cosmeticos_df['id_produto'] == 1]['durabilidade'],\n",
        "    cosmeticos_df[cosmeticos_df['id_produto'] == 2]['durabilidade'],\n",
        "    cosmeticos_df[cosmeticos_df['id_produto'] == 3]['durabilidade']\n",
        ")\n",
        "\n",
        "# Imprimir os resultados\n",
        "print(f\"Valor F: {f_stat}\")\n",
        "print(f\"Valor p: {p_value}\")\n",
        "\n",
        "# Conclusão do teste\n",
        "alpha = 0.05\n",
        "if p_value < alpha:\n",
        "    print(\"Rejeitamos a hipótese nula. Há diferença estatisticamente significativa na durabilidade dos batons com fórmulas diferentes.\")\n",
        "else:\n",
        "    print(\"Não rejeitamos a hipótese nula. Não há evidências suficientes para afirmar que há diferença na durabilidade dos batons com fórmulas diferentes.\")"
      ],
      "metadata": {
        "id": "2IZ0ic8Q9NtZ",
        "colab": {
          "base_uri": "https://localhost:8080/"
        },
        "outputId": "c58c60ff-40da-41fb-c515-404e2a6c9801"
      },
      "execution_count": null,
      "outputs": [
        {
          "output_type": "stream",
          "name": "stdout",
          "text": [
            "Valor F: 240.6680561187368\n",
            "Valor p: 7.345246616757137e-63\n",
            "Rejeitamos a hipótese nula. Há diferença estatisticamente significativa na durabilidade dos batons com fórmulas diferentes.\n"
          ]
        }
      ]
    },
    {
      "cell_type": "markdown",
      "source": [
        "## Análise de resultado\n",
        "Analisando os resultados do teste ANOVA que realizamos para comparar a durabilidade dos batons com diferentes fórmulas, temos resultados bastante interessantes.\n",
        "\n",
        "**Valor F**: 240.67\n",
        "Este é um indicador-chave do teste ANOVA. Um Valor F significativamente alto sugere que as variações entre os grupos (diferentes fórmulas de batom) são muito maiores do que as variações dentro dos grupos. Isso nos leva a crer que pelo menos duas das fórmulas de batom têm durabilidades diferentes.\n",
        "\n",
        "**Valor p:** 7.35e-63\n",
        "O Valor p é extremamente baixo, praticamente zero. Esse valor nos ajuda a entender a probabilidade de obter um resultado tão extremo quanto o que encontramos, assumindo que não haja diferença real entre as fórmulas. Neste contexto, é como se estivéssemos dizendo que a chance de todas as fórmulas de batom terem a mesma durabilidade é quase nula.\n",
        "\n",
        "**Conclusão:**\n",
        "Com base nos resultados do teste ANOVA, rejeitamos a hipótese nula. Isso significa que há diferença estatisticamente significativa na durabilidade dos batons com as diferentes fórmulas. Em termos simples, algumas fórmulas de batom duram mais do que outras. Portanto, ao desenvolver um batom de longa duração, é essencial considerar as fórmulas dos produtos!"
      ],
      "metadata": {
        "id": "JtEHqijTWBlO"
      }
    },
    {
      "cell_type": "markdown",
      "source": [
        "# 2 - Essa diferenca persiste ou nao quando a voluntária se expoe ao sol? E com relaçao a idade"
      ],
      "metadata": {
        "id": "dDHZoIS5jGhf"
      }
    },
    {
      "cell_type": "code",
      "source": [
        "import statsmodels.api as sm\n",
        "\n",
        "# Adicionar uma coluna para a interação entre 'exposicao_sol' e 'id_produto'\n",
        "cosmeticos_df['exposicao_sol_id_produto'] = cosmeticos_df['exposicao_sol'] * cosmeticos_df['id_produto']\n",
        "\n",
        "# Adicionar uma constante para o modelo de regressão\n",
        "cosmeticos_df['constante'] = 1\n",
        "\n",
        "# Ajustar o modelo de regressão incluindo interações\n",
        "modelo = sm.OLS(cosmeticos_df['durabilidade'],\n",
        "                cosmeticos_df[['constante', 'exposicao_sol', 'id_produto', 'exposicao_sol_id_produto']]\n",
        "               ).fit()\n",
        "\n",
        "# Imprimir um resumo do modelo\n",
        "print(modelo.summary())\n",
        "\n",
        "\n",
        "# Verificar se o coeficiente de interação entre exposicao_sol e id_produto é significativo\n",
        "if modelo.pvalues['exposicao_sol_id_produto'] < 0.05:\n",
        "    # Se o coeficiente de interação for significativo\n",
        "    if modelo.params['exposicao_sol_id_produto'] > 0:\n",
        "        print(\"A relação entre exposição ao sol e durabilidade dos produtos é significativa e positiva.\")\n",
        "    else:\n",
        "        print(\"A relação entre exposição ao sol e durabilidade dos produtos é significativa e negativa.\")\n",
        "else:\n",
        "    # Se o coeficiente de interação não for significativo\n",
        "    print(\"Não há evidências suficientes para concluir que a relação entre exposição ao sol e durabilidade dos produtos varia dependendo do tipo de produto.\")\n"
      ],
      "metadata": {
        "colab": {
          "base_uri": "https://localhost:8080/"
        },
        "id": "lCiiq0ji6Mam",
        "outputId": "f6a089c7-111a-43ca-c6fb-0c935039a17b"
      },
      "execution_count": null,
      "outputs": [
        {
          "output_type": "stream",
          "name": "stdout",
          "text": [
            "                            OLS Regression Results                            \n",
            "==============================================================================\n",
            "Dep. Variable:           durabilidade   R-squared:                       0.388\n",
            "Model:                            OLS   Adj. R-squared:                  0.382\n",
            "Method:                 Least Squares   F-statistic:                     62.65\n",
            "Date:                Mon, 22 Apr 2024   Prob (F-statistic):           2.17e-31\n",
            "Time:                        21:32:46   Log-Likelihood:                -1069.2\n",
            "No. Observations:                 300   AIC:                             2146.\n",
            "Df Residuals:                     296   BIC:                             2161.\n",
            "Df Model:                           3                                         \n",
            "Covariance Type:            nonrobust                                         \n",
            "============================================================================================\n",
            "                               coef    std err          t      P>|t|      [0.025      0.975]\n",
            "--------------------------------------------------------------------------------------------\n",
            "constante                    3.5313      1.757      2.009      0.045       0.073       6.990\n",
            "exposicao_sol                1.6436      2.650      0.620      0.536      -3.572       6.860\n",
            "id_produto                   8.3735      0.799     10.475      0.000       6.800       9.947\n",
            "exposicao_sol_id_produto    -4.4979      1.234     -3.645      0.000      -6.926      -2.069\n",
            "==============================================================================\n",
            "Omnibus:                        2.683   Durbin-Watson:                   0.944\n",
            "Prob(Omnibus):                  0.261   Jarque-Bera (JB):                2.481\n",
            "Skew:                           0.220   Prob(JB):                        0.289\n",
            "Kurtosis:                       3.072   Cond. No.                         16.9\n",
            "==============================================================================\n",
            "\n",
            "Notes:\n",
            "[1] Standard Errors assume that the covariance matrix of the errors is correctly specified.\n",
            "A relação entre exposição ao sol e durabilidade dos produtos é significativa e negativa.\n"
          ]
        }
      ]
    },
    {
      "cell_type": "code",
      "source": [
        "import statsmodels.api as sm\n",
        "from statsmodels.formula.api import ols\n",
        "\n",
        "# Especificar o modelo ANOVA com interação\n",
        "modelo = ols('durabilidade ~ C(id_produto) * idade', data=cosmeticos_df).fit()\n",
        "\n",
        "# Realizar a ANOVA com interação\n",
        "anova_resultado = sm.stats.anova_lm(modelo, typ=2)\n",
        "\n",
        "# Exibir a tabela ANOVA\n",
        "print(anova_resultado)\n",
        "\n",
        "# Definir o nível de significância\n",
        "alpha = 0.05\n",
        "\n",
        "# Comparar o valor-p com o nível de significância\n",
        "\n",
        "if anova_resultado['PR(>F)']['C(id_produto):idade'] < alpha:\n",
        "    print(\"A interação entre tipo de batom e idade é estatisticamente significativa.\")\n",
        "else:\n",
        "    print(\"A interação entre tipo de batom e idade não é estatisticamente significativa.\")\n"
      ],
      "metadata": {
        "colab": {
          "base_uri": "https://localhost:8080/"
        },
        "id": "C8nBQK54zNxd",
        "outputId": "d376ce9d-90f5-4727-8339-18dedcabcfa4"
      },
      "execution_count": null,
      "outputs": [
        {
          "output_type": "stream",
          "name": "stdout",
          "text": [
            "                           sum_sq     df           F        PR(>F)\n",
            "C(id_produto)        19164.960432    2.0  424.053518  2.312900e-87\n",
            "idade                 1550.471682    1.0   68.613027  4.282697e-15\n",
            "C(id_produto):idade   5468.371270    2.0  120.995923  4.579359e-39\n",
            "Residual              6643.617048  294.0         NaN           NaN\n",
            "A interação entre tipo de batom e idade é estatisticamente significativa.\n"
          ]
        }
      ]
    },
    {
      "cell_type": "markdown",
      "source": [
        "## Análise de resultado\n",
        "Analisando os resultados do teste de regressão linear que realizamos para  comparar a durabilidade dos batons com diferentes fórmulas,quando as voluntarias são expostas ao sol,É possivel afirmar  a que há uma associação estatisticamente significativa entre a exposição ao sol e a durabilidade dos produtos, e essa associação tem uma direção negativa.Isto é em média, a durabilidade dos produtos tende a diminuir quando há exposição ao sol.\n",
        "\n",
        "Já em relação a idade:\n",
        "A interação entre o tipo de batom e a idade é estatisticamente significativa,pois o PR> F da coluna C(id_produto:idade) é maior que o nivel de significancia escolhido(0.05).O que indica que as diferenças na durabilidade dos batons entre as diferentes fórmulas variam de acordo com a idade das voluntárias.\n"
      ],
      "metadata": {
        "id": "ZYavn8oEqiU3"
      }
    },
    {
      "cell_type": "markdown",
      "source": [
        "# 3- Qual fórmula de batom voce indicaria para consumidores que buscam maior durabilidade e exposicao ao sol?"
      ],
      "metadata": {
        "id": "WqTjPSoroaoK"
      }
    },
    {
      "cell_type": "code",
      "source": [
        "medias_durabilidade = cosmeticos_df.groupby(['id_produto', 'exposicao_sol'])['durabilidade'].mean().unstack()\n",
        "print(medias_durabilidade)"
      ],
      "metadata": {
        "id": "XroUxQ7prixU",
        "colab": {
          "base_uri": "https://localhost:8080/"
        },
        "outputId": "20db5a91-68fe-45dc-ece1-48046a7d0a27"
      },
      "execution_count": null,
      "outputs": [
        {
          "output_type": "stream",
          "name": "stdout",
          "text": [
            "exposicao_sol          0          1\n",
            "id_produto                         \n",
            "1              17.727273  11.911111\n",
            "2               7.961538   7.562500\n",
            "3              33.901639  20.102564\n"
          ]
        }
      ]
    },
    {
      "cell_type": "code",
      "source": [
        "plt.figure(figsize=(10, 6))\n",
        "medias_durabilidade.plot(kind='bar')\n",
        "plt.xlabel('Fórmula do Batom')\n",
        "plt.ylabel('Durabilidade Média (horas)')\n",
        "plt.title('Durabilidade média dos batons por fórmula e exposição ao sol')\n",
        "plt.show()"
      ],
      "metadata": {
        "id": "8pwUFoztrq14",
        "colab": {
          "base_uri": "https://localhost:8080/",
          "height": 484
        },
        "outputId": "c49d2c1c-388d-4b1f-b540-742f904112f1"
      },
      "execution_count": null,
      "outputs": [
        {
          "output_type": "display_data",
          "data": {
            "text/plain": [
              "<Figure size 1000x600 with 0 Axes>"
            ]
          },
          "metadata": {}
        },
        {
          "output_type": "display_data",
          "data": {
            "text/plain": [
              "<Figure size 640x480 with 1 Axes>"
            ],
            "image/png": "[encoded data removed]"
          },
          "metadata": {}
        }
      ]
    },
    {
      "cell_type": "markdown",
      "source": [
        "#DESAFIO 2\n",
        "\n",
        "Imagine que voce trabalha em uma empresa do setor alimentício, e o preço de determinado produto, um novo picolé, tem uma distribuição normal com média igual a RS 7,85 e desvio padrão igual a R$3,32. Suspeita-se que devido ao verão, em determinadas localidades de praia o preco do picolé esteja mais caro.\n",
        "\n",
        "Para verificar se esse efeito é estatisticamente significativo, contactaram voce, analista de dados.\n",
        "\n",
        "Suponha que para realizar essa análise voce tenha dados de 45 lojas em cidades do litoral, escolhidas aleatoriamente. E constatou que o preço médio do picolé nessas cidades é de R$11,52."
      ],
      "metadata": {
        "id": "Oy_K8PY4b1qs"
      }
    },
    {
      "cell_type": "markdown",
      "source": [
        "## 1. Voce pode concluir que existe diferenca de precos estatisticamente relevante com 5% de significancia?"
      ],
      "metadata": {
        "id": "UB1W5uE3JxUK"
      }
    },
    {
      "cell_type": "markdown",
      "source": [
        "H0 - não tem diferença significativa\\\n",
        "H1 - tem diferença significativa\n",
        "\n",
        "alpha = 0.05"
      ],
      "metadata": {
        "id": "pqzdpVF5LLzc"
      }
    },
    {
      "cell_type": "code",
      "source": [
        "# Preços médios e desvios padrão fora do verão\n",
        "media_regular = 7.85\n",
        "desvio = 3.32\n",
        "\n",
        "# Pesquisa com lojas no verão\n",
        "n = 45\n",
        "media_verao = 11.52"
      ],
      "metadata": {
        "id": "x-pGEKwbLLFO"
      },
      "execution_count": null,
      "outputs": []
    },
    {
      "cell_type": "code",
      "source": [
        "#cálculo do teste z já que sabemos média, desvio e tem mais de 30 amostras\n",
        "teste_z = (media_verao - media_regular) / (desvio / np.sqrt(n))\n",
        "\n",
        "print('Teste Z: ', teste_z)"
      ],
      "metadata": {
        "id": "pUWDWUq9J6Pp",
        "colab": {
          "base_uri": "https://localhost:8080/"
        },
        "outputId": "1d954af0-8fc2-4cb9-a7c7-eaf9146f9046"
      },
      "execution_count": null,
      "outputs": [
        {
          "output_type": "stream",
          "name": "stdout",
          "text": [
            "Teste Z:  7.415394106106231\n"
          ]
        }
      ]
    },
    {
      "cell_type": "code",
      "source": [
        "#calculando valor crítico da distribuição normal\n",
        "alpha = 0.05\n",
        "\n",
        "valor_critico = norm.ppf(1 - alpha)\n",
        "\n",
        "#comparando o teste Z com o valor crítico\n",
        "if teste_z > valor_critico:\n",
        "  print('Rejeitamos a hipótese nula')\n",
        "else:\n",
        "  print('Não rejeitamos a hipótese nula')"
      ],
      "metadata": {
        "id": "3A_PGrYsYiBF",
        "colab": {
          "base_uri": "https://localhost:8080/"
        },
        "outputId": "49b9b62f-f9a6-46df-88b6-2ff536a9695d"
      },
      "execution_count": null,
      "outputs": [
        {
          "output_type": "stream",
          "name": "stdout",
          "text": [
            "Rejeitamos a hipótese nula\n"
          ]
        }
      ]
    },
    {
      "cell_type": "markdown",
      "source": [
        "# 1. Voce pode concluir que existe diferenca de precos estatisticamente relevante com 5% de significancia?"
      ],
      "metadata": {
        "id": "Roe1gLeF8DUy"
      }
    },
    {
      "cell_type": "code",
      "execution_count": null,
      "metadata": {
        "id": "h7VV6PIk7JAL"
      },
      "outputs": [],
      "source": [
        "picole_novo = 7.85\n",
        "picole_verao = 11.52\n",
        "std = 3.32\n",
        "amostra = 45\n",
        "alpha = 0.05"
      ]
    },
    {
      "cell_type": "code",
      "source": [
        "z_test = (picole_verao-picole_novo)/(std/np.sqrt(amostra))\n",
        "print('Teste Z :',z_test)"
      ],
      "metadata": {
        "id": "ZC1kg8UZAMTf",
        "colab": {
          "base_uri": "https://localhost:8080/"
        },
        "outputId": "8b1bc81c-b913-4412-a22f-ca0371de95e9"
      },
      "execution_count": null,
      "outputs": [
        {
          "output_type": "stream",
          "name": "stdout",
          "text": [
            "Teste Z : 7.415394106106231\n"
          ]
        }
      ]
    },
    {
      "cell_type": "code",
      "source": [
        "p_value = 1-norm.cdf(z_test)\n",
        "print('p-value :',p_value)"
      ],
      "metadata": {
        "id": "hTNb-tpnCdIc",
        "colab": {
          "base_uri": "https://localhost:8080/"
        },
        "outputId": "8eeea649-f12f-4215-f577-9c7f308d1b78"
      },
      "execution_count": null,
      "outputs": [
        {
          "output_type": "stream",
          "name": "stdout",
          "text": [
            "p-value : 6.061817714453355e-14\n"
          ]
        }
      ]
    },
    {
      "cell_type": "code",
      "source": [
        "if p_value <  alpha:\n",
        "    print(\"Rejeitar Hipótese Nula!\")\n",
        "else:\n",
        "  print(\"Aceitar Hipótese Nula!\")"
      ],
      "metadata": {
        "id": "2gHMaTghEHRx",
        "colab": {
          "base_uri": "https://localhost:8080/"
        },
        "outputId": "bf81ae7c-d19e-4944-c3f9-54684b478366"
      },
      "execution_count": null,
      "outputs": [
        {
          "output_type": "stream",
          "name": "stdout",
          "text": [
            "Rejeitar Hipótese Nula!\n"
          ]
        }
      ]
    },
    {
      "cell_type": "markdown",
      "source": [
        "**com base  Picoles estão mais caros durante o verão outras localidades!**"
      ],
      "metadata": {
        "id": "jraYxuhzF1RJ"
      }
    },
    {
      "cell_type": "markdown",
      "source": [
        "## 2. Qual o valor da variável teste, o intervalo de confianca e o p-valor?"
      ],
      "metadata": {
        "id": "2GJhX4H3J1hd"
      }
    },
    {
      "cell_type": "code",
      "source": [
        "#cálculo do intervalo de confiança\n",
        "ic_min, ic_max = norm.interval(0.95, loc = media_regular,\n",
        "                          scale = desvio / (n ** 0.5))\n",
        "\n",
        "#fórmula para p-valor\n",
        "p_valor = 1 - norm.cdf(teste_z)"
      ],
      "metadata": {
        "id": "hYbiJ2VuJ_li"
      },
      "execution_count": null,
      "outputs": []
    },
    {
      "cell_type": "code",
      "source": [
        "print('Teste Z: ', teste_z)\n",
        "print('Valor crítico: ', valor_critico)\n",
        "print('Intervalo de confiança mínimo: {0} e máximo {1}'.format(ic_min, ic_max))\n",
        "print('P-valor: ', p_valor)"
      ],
      "metadata": {
        "id": "uOj2FJIdaeOV",
        "colab": {
          "base_uri": "https://localhost:8080/"
        },
        "outputId": "84be9eff-39e9-448a-caac-25b009ba5d25"
      },
      "execution_count": null,
      "outputs": [
        {
          "output_type": "stream",
          "name": "stdout",
          "text": [
            "Teste Z:  7.415394106106231\n",
            "Valor crítico:  1.6448536269514722\n",
            "Intervalo de confiança mínimo: 6.879981721761916 e máximo 8.820018278238082\n",
            "P-valor:  6.061817714453355e-14\n"
          ]
        }
      ]
    },
    {
      "cell_type": "code",
      "source": [],
      "metadata": {
        "id": "M_ouDnh7-1wR"
      },
      "execution_count": null,
      "outputs": []
    }
  ]
}